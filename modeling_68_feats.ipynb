{
 "cells": [
  {
   "cell_type": "code",
   "execution_count": 3,
   "metadata": {},
   "outputs": [],
   "source": [
    "from functools import partial\n",
    "import operator\n",
    "from pathlib import Path\n",
    "import warnings\n",
    "\n",
    "import matplotlib.pyplot as plt\n",
    "import numpy as np\n",
    "import pandas as pd\n",
    "\n",
    "from sklearn.base import (BaseEstimator, \n",
    "                          ClassifierMixin)\n",
    "from sklearn.ensemble import RandomForestClassifier\n",
    "from sklearn.exceptions import (ConvergenceWarning, \n",
    "                                UndefinedMetricWarning)\n",
    "from sklearn.linear_model import LogisticRegression\n",
    "from sklearn.metrics import (accuracy_score, \n",
    "                             auc, \n",
    "                             f1_score,\n",
    "                             make_scorer,\n",
    "                             precision_score, \n",
    "                             recall_score, \n",
    "                             roc_curve)\n",
    "from sklearn.model_selection import (cross_val_score, \n",
    "                                     GridSearchCV,\n",
    "                                     learning_curve, \n",
    "                                     train_test_split)\n",
    "from sklearn.naive_bayes import GaussianNB\n",
    "from sklearn.neighbors import KNeighborsClassifier\n",
    "from sklearn.svm import (LinearSVC, \n",
    "                         SVC)\n",
    "from sklearn.tree import DecisionTreeClassifier\n",
    "\n",
    "warnings.filterwarnings('ignore', category=FutureWarning)\n",
    "warnings.filterwarnings('ignore', category=ConvergenceWarning)\n",
    "warnings.filterwarnings('ignore', category=UndefinedMetricWarning)"
   ]
  },
  {
   "cell_type": "code",
   "execution_count": 4,
   "metadata": {},
   "outputs": [],
   "source": [
    "cwd = Path.cwd()\n",
    "pkl_path = cwd / 'data' / 'audio_df.pkl'"
   ]
  },
  {
   "cell_type": "code",
   "execution_count": 5,
   "metadata": {},
   "outputs": [],
   "source": [
    "audio_df = pd.read_pickle(pkl_path)"
   ]
  },
  {
   "cell_type": "code",
   "execution_count": 6,
   "metadata": {},
   "outputs": [
    {
     "data": {
      "text/plain": [
       "(2121, 69)"
      ]
     },
     "execution_count": 6,
     "metadata": {},
     "output_type": "execute_result"
    }
   ],
   "source": [
    "audio_df.shape"
   ]
  },
  {
   "cell_type": "code",
   "execution_count": 7,
   "metadata": {},
   "outputs": [
    {
     "data": {
      "text/html": [
       "<div>\n",
       "<style scoped>\n",
       "    .dataframe tbody tr th:only-of-type {\n",
       "        vertical-align: middle;\n",
       "    }\n",
       "\n",
       "    .dataframe tbody tr th {\n",
       "        vertical-align: top;\n",
       "    }\n",
       "\n",
       "    .dataframe thead th {\n",
       "        text-align: right;\n",
       "    }\n",
       "</style>\n",
       "<table border=\"1\" class=\"dataframe\">\n",
       "  <thead>\n",
       "    <tr style=\"text-align: right;\">\n",
       "      <th></th>\n",
       "      <th>song</th>\n",
       "      <th>seg</th>\n",
       "      <th>tempo</th>\n",
       "      <th>dynamic_tempo_mean</th>\n",
       "      <th>dynamic_tempo_median</th>\n",
       "      <th>dynamic_tempo_std</th>\n",
       "      <th>dynamic_tempo_amin</th>\n",
       "      <th>dynamic_tempo_amax</th>\n",
       "      <th>pitch_0_mean</th>\n",
       "      <th>pitch_0_median</th>\n",
       "      <th>...</th>\n",
       "      <th>pitch_10_median</th>\n",
       "      <th>pitch_10_std</th>\n",
       "      <th>pitch_10_amin</th>\n",
       "      <th>pitch_10_amax</th>\n",
       "      <th>pitch_11_mean</th>\n",
       "      <th>pitch_11_median</th>\n",
       "      <th>pitch_11_std</th>\n",
       "      <th>pitch_11_amin</th>\n",
       "      <th>pitch_11_amax</th>\n",
       "      <th>artist</th>\n",
       "    </tr>\n",
       "  </thead>\n",
       "  <tbody>\n",
       "    <tr>\n",
       "      <th>0</th>\n",
       "      <td>21StCentury</td>\n",
       "      <td>0</td>\n",
       "      <td>117.453835</td>\n",
       "      <td>116.845143</td>\n",
       "      <td>117.453835</td>\n",
       "      <td>1.654658e+00</td>\n",
       "      <td>112.347147</td>\n",
       "      <td>117.453835</td>\n",
       "      <td>0.427060</td>\n",
       "      <td>0.404514</td>\n",
       "      <td>...</td>\n",
       "      <td>0.308261</td>\n",
       "      <td>0.308046</td>\n",
       "      <td>0.112909</td>\n",
       "      <td>1.0</td>\n",
       "      <td>0.356015</td>\n",
       "      <td>0.334299</td>\n",
       "      <td>0.150156</td>\n",
       "      <td>0.061158</td>\n",
       "      <td>0.763258</td>\n",
       "      <td>RedHotChiliPeppers</td>\n",
       "    </tr>\n",
       "    <tr>\n",
       "      <th>1</th>\n",
       "      <td>21StCentury</td>\n",
       "      <td>1</td>\n",
       "      <td>117.453835</td>\n",
       "      <td>116.818981</td>\n",
       "      <td>117.453835</td>\n",
       "      <td>2.229267e+00</td>\n",
       "      <td>112.347147</td>\n",
       "      <td>123.046875</td>\n",
       "      <td>0.451266</td>\n",
       "      <td>0.422953</td>\n",
       "      <td>...</td>\n",
       "      <td>0.351420</td>\n",
       "      <td>0.274104</td>\n",
       "      <td>0.117207</td>\n",
       "      <td>1.0</td>\n",
       "      <td>0.330460</td>\n",
       "      <td>0.330812</td>\n",
       "      <td>0.096484</td>\n",
       "      <td>0.178364</td>\n",
       "      <td>0.619085</td>\n",
       "      <td>RedHotChiliPeppers</td>\n",
       "    </tr>\n",
       "    <tr>\n",
       "      <th>2</th>\n",
       "      <td>21StCentury</td>\n",
       "      <td>2</td>\n",
       "      <td>117.453835</td>\n",
       "      <td>120.001509</td>\n",
       "      <td>117.453835</td>\n",
       "      <td>1.081003e+01</td>\n",
       "      <td>112.347147</td>\n",
       "      <td>161.499023</td>\n",
       "      <td>0.431115</td>\n",
       "      <td>0.397945</td>\n",
       "      <td>...</td>\n",
       "      <td>0.350978</td>\n",
       "      <td>0.311283</td>\n",
       "      <td>0.165567</td>\n",
       "      <td>1.0</td>\n",
       "      <td>0.348092</td>\n",
       "      <td>0.311502</td>\n",
       "      <td>0.113781</td>\n",
       "      <td>0.189196</td>\n",
       "      <td>0.622813</td>\n",
       "      <td>RedHotChiliPeppers</td>\n",
       "    </tr>\n",
       "    <tr>\n",
       "      <th>3</th>\n",
       "      <td>21StCentury</td>\n",
       "      <td>3</td>\n",
       "      <td>117.453835</td>\n",
       "      <td>119.821786</td>\n",
       "      <td>117.453835</td>\n",
       "      <td>7.041619e+00</td>\n",
       "      <td>117.453835</td>\n",
       "      <td>161.499023</td>\n",
       "      <td>0.433209</td>\n",
       "      <td>0.386246</td>\n",
       "      <td>...</td>\n",
       "      <td>0.353645</td>\n",
       "      <td>0.272296</td>\n",
       "      <td>0.121033</td>\n",
       "      <td>1.0</td>\n",
       "      <td>0.316156</td>\n",
       "      <td>0.297740</td>\n",
       "      <td>0.109587</td>\n",
       "      <td>0.107098</td>\n",
       "      <td>0.536942</td>\n",
       "      <td>RedHotChiliPeppers</td>\n",
       "    </tr>\n",
       "    <tr>\n",
       "      <th>4</th>\n",
       "      <td>21StCentury</td>\n",
       "      <td>4</td>\n",
       "      <td>117.453835</td>\n",
       "      <td>117.453835</td>\n",
       "      <td>117.453835</td>\n",
       "      <td>1.421085e-14</td>\n",
       "      <td>117.453835</td>\n",
       "      <td>117.453835</td>\n",
       "      <td>0.433089</td>\n",
       "      <td>0.316087</td>\n",
       "      <td>...</td>\n",
       "      <td>0.213566</td>\n",
       "      <td>0.213278</td>\n",
       "      <td>0.074096</td>\n",
       "      <td>1.0</td>\n",
       "      <td>0.219393</td>\n",
       "      <td>0.200609</td>\n",
       "      <td>0.135975</td>\n",
       "      <td>0.047603</td>\n",
       "      <td>0.585161</td>\n",
       "      <td>RedHotChiliPeppers</td>\n",
       "    </tr>\n",
       "  </tbody>\n",
       "</table>\n",
       "<p>5 rows × 69 columns</p>\n",
       "</div>"
      ],
      "text/plain": [
       "          song  seg       tempo  dynamic_tempo_mean  dynamic_tempo_median  \\\n",
       "0  21StCentury    0  117.453835          116.845143            117.453835   \n",
       "1  21StCentury    1  117.453835          116.818981            117.453835   \n",
       "2  21StCentury    2  117.453835          120.001509            117.453835   \n",
       "3  21StCentury    3  117.453835          119.821786            117.453835   \n",
       "4  21StCentury    4  117.453835          117.453835            117.453835   \n",
       "\n",
       "   dynamic_tempo_std  dynamic_tempo_amin  dynamic_tempo_amax  pitch_0_mean  \\\n",
       "0       1.654658e+00          112.347147          117.453835      0.427060   \n",
       "1       2.229267e+00          112.347147          123.046875      0.451266   \n",
       "2       1.081003e+01          112.347147          161.499023      0.431115   \n",
       "3       7.041619e+00          117.453835          161.499023      0.433209   \n",
       "4       1.421085e-14          117.453835          117.453835      0.433089   \n",
       "\n",
       "   pitch_0_median  ...  pitch_10_median  pitch_10_std  pitch_10_amin  \\\n",
       "0        0.404514  ...         0.308261      0.308046       0.112909   \n",
       "1        0.422953  ...         0.351420      0.274104       0.117207   \n",
       "2        0.397945  ...         0.350978      0.311283       0.165567   \n",
       "3        0.386246  ...         0.353645      0.272296       0.121033   \n",
       "4        0.316087  ...         0.213566      0.213278       0.074096   \n",
       "\n",
       "   pitch_10_amax  pitch_11_mean  pitch_11_median  pitch_11_std  pitch_11_amin  \\\n",
       "0            1.0       0.356015         0.334299      0.150156       0.061158   \n",
       "1            1.0       0.330460         0.330812      0.096484       0.178364   \n",
       "2            1.0       0.348092         0.311502      0.113781       0.189196   \n",
       "3            1.0       0.316156         0.297740      0.109587       0.107098   \n",
       "4            1.0       0.219393         0.200609      0.135975       0.047603   \n",
       "\n",
       "   pitch_11_amax              artist  \n",
       "0       0.763258  RedHotChiliPeppers  \n",
       "1       0.619085  RedHotChiliPeppers  \n",
       "2       0.622813  RedHotChiliPeppers  \n",
       "3       0.536942  RedHotChiliPeppers  \n",
       "4       0.585161  RedHotChiliPeppers  \n",
       "\n",
       "[5 rows x 69 columns]"
      ]
     },
     "execution_count": 7,
     "metadata": {},
     "output_type": "execute_result"
    }
   ],
   "source": [
    "audio_df.head()"
   ]
  },
  {
   "cell_type": "code",
   "execution_count": 8,
   "metadata": {},
   "outputs": [],
   "source": [
    "X = audio_df.drop(columns=['song', 'seg', 'artist'])\n",
    "y = audio_df['artist'].map({'Eminem': 0, 'RedHotChiliPeppers': 1})"
   ]
  },
  {
   "cell_type": "code",
   "execution_count": 9,
   "metadata": {},
   "outputs": [],
   "source": [
    "X_train, X_test, y_train, y_test = train_test_split(X, y, test_size=0.2, random_state=0)"
   ]
  },
  {
   "cell_type": "code",
   "execution_count": 10,
   "metadata": {},
   "outputs": [],
   "source": [
    "metric_scores = [accuracy_score, f1_score, precision_score, recall_score]\n",
    "metric_names = [metric.__name__ for metric in metric_scores]"
   ]
  },
  {
   "cell_type": "code",
   "execution_count": 11,
   "metadata": {},
   "outputs": [],
   "source": [
    "class BaselineClassifier(BaseEstimator, ClassifierMixin):\n",
    "    \"\"\"A classifier that always predicts the baseline class.\"\"\"\n",
    "    \n",
    "    def __init__(self, baseline=None):\n",
    "        self.baseline = baseline\n",
    "    \n",
    "    def fit(self, X=None, y=None):\n",
    "        return\n",
    "    \n",
    "    def predict(self, X):\n",
    "        return np.full(len(X), self.baseline)"
   ]
  },
  {
   "cell_type": "code",
   "execution_count": 12,
   "metadata": {},
   "outputs": [],
   "source": [
    "EminemClassifier = BaselineClassifier(0)\n",
    "RHCPClassifier = BaselineClassifier(1)"
   ]
  },
  {
   "cell_type": "code",
   "execution_count": 13,
   "metadata": {},
   "outputs": [],
   "source": [
    "def cv_score(estimator, X, y, cv=5, scoring=None):\n",
    "    \"\"\"Return the mean score of an estimator and classifier objects X and y using cross validation.\"\"\"\n",
    "    \n",
    "    cvs = cross_val_score(estimator=estimator, \n",
    "                          X=X, \n",
    "                          y=y, \n",
    "                          cv=cv,\n",
    "                          scoring=scoring)\n",
    "    return cvs.mean()"
   ]
  },
  {
   "cell_type": "code",
   "execution_count": 14,
   "metadata": {},
   "outputs": [],
   "source": [
    "cv_X_y = partial(cv_score, X=X, y=y)\n",
    "cv_accuracy = partial(cv_X_y, scoring=make_scorer(accuracy_score))\n",
    "cv_f1 = partial(cv_X_y, scoring=make_scorer(f1_score))\n",
    "cv_precision = partial(cv_X_y, scoring=make_scorer(precision_score))\n",
    "cv_recall = partial(cv_X_y, scoring=make_scorer(recall_score))\n",
    "\n",
    "cv_metrics = [cv_accuracy, cv_f1, cv_precision, cv_recall]"
   ]
  },
  {
   "cell_type": "code",
   "execution_count": 15,
   "metadata": {},
   "outputs": [],
   "source": [
    "def score_estimator(estimator):\n",
    "    return {name: cv(estimator) for name, cv in zip(metric_names, cv_metrics)}"
   ]
  },
  {
   "cell_type": "code",
   "execution_count": 16,
   "metadata": {},
   "outputs": [],
   "source": [
    "def plot_roc_calc_auc(estimator, X_train, X_test, y_train, y_test):\n",
    "    \"\"\"Plot the ROC and return the AUC.\"\"\"\n",
    "    \n",
    "    estimator.fit(X_train, y_train)\n",
    "    y_score = estimator.predict_proba(X_test)\n",
    "    false_pos, true_pos, _ = roc_curve(y_test, y_score[:,1])\n",
    "    \n",
    "    plt.plot(false_pos, true_pos)\n",
    "    \n",
    "    est_name = type(estimator).__name__\n",
    "    default_params = type(estimator)().get_params().items()\n",
    "    estimator_params = estimator.get_params().items()\n",
    "    hyper_params = (est_p for def_p, est_p in zip(default_params, estimator_params) if def_p != est_p)\n",
    "    hyper_params = (f'{arg}={val}' for arg, val in hyper_params)\n",
    "    hyper_params = ', '.join(hyper_params)\n",
    "    \n",
    "    plt.title(f'ROC: {est_name}({hyper_params})')\n",
    "    plt.xlabel('False Positive Rate')\n",
    "    plt.ylabel('True Positive Rate')\n",
    "    \n",
    "    return f'AUC: {auc(false_pos, true_pos)}'"
   ]
  },
  {
   "cell_type": "code",
   "execution_count": 17,
   "metadata": {},
   "outputs": [],
   "source": [
    "plot_roc_calc_auc_audio = partial(plot_roc_calc_auc, \n",
    "                                  X_train=X_train,\n",
    "                                  X_test=X_test,\n",
    "                                  y_train=y_train,\n",
    "                                  y_test=y_test)"
   ]
  },
  {
   "cell_type": "markdown",
   "metadata": {},
   "source": [
    "# Baselines"
   ]
  },
  {
   "cell_type": "code",
   "execution_count": 16,
   "metadata": {},
   "outputs": [
    {
     "data": {
      "text/plain": [
       "{'accuracy_score': 0.4507302996670366,\n",
       " 'f1_score': 0.0,\n",
       " 'precision_score': 0.0,\n",
       " 'recall_score': 0.0}"
      ]
     },
     "execution_count": 16,
     "metadata": {},
     "output_type": "execute_result"
    }
   ],
   "source": [
    "score_estimator(EminemClassifier)"
   ]
  },
  {
   "cell_type": "code",
   "execution_count": 17,
   "metadata": {},
   "outputs": [
    {
     "data": {
      "text/plain": [
       "{'accuracy_score': 0.5492697003329634,\n",
       " 'f1_score': 0.7090690390602953,\n",
       " 'precision_score': 0.5492697003329634,\n",
       " 'recall_score': 1.0}"
      ]
     },
     "execution_count": 17,
     "metadata": {},
     "output_type": "execute_result"
    }
   ],
   "source": [
    "score_estimator(RHCPClassifier)"
   ]
  },
  {
   "cell_type": "markdown",
   "metadata": {},
   "source": [
    "# KNN"
   ]
  },
  {
   "cell_type": "code",
   "execution_count": 18,
   "metadata": {},
   "outputs": [
    {
     "data": {
      "text/plain": [
       "{'n_neighbors': 3}"
      ]
     },
     "execution_count": 18,
     "metadata": {},
     "output_type": "execute_result"
    }
   ],
   "source": [
    "param_grid = {'n_neighbors': range(1, 21)}\n",
    "grid = GridSearchCV(KNeighborsClassifier(), param_grid=param_grid, cv=5)\n",
    "grid.fit(X, y)\n",
    "knn_best = grid.best_params_\n",
    "knn_best"
   ]
  },
  {
   "cell_type": "code",
   "execution_count": 19,
   "metadata": {},
   "outputs": [
    {
     "data": {
      "text/plain": [
       "{'n_neighbors': 3}"
      ]
     },
     "execution_count": 19,
     "metadata": {},
     "output_type": "execute_result"
    }
   ],
   "source": [
    "knn_best"
   ]
  },
  {
   "cell_type": "code",
   "execution_count": 20,
   "metadata": {},
   "outputs": [
    {
     "data": {
      "text/plain": [
       "{'accuracy_score': 0.6416681465038846,\n",
       " 'f1_score': 0.6792402741364173,\n",
       " 'precision_score': 0.6714782045516154,\n",
       " 'recall_score': 0.690128755364807}"
      ]
     },
     "execution_count": 20,
     "metadata": {},
     "output_type": "execute_result"
    }
   ],
   "source": [
    "score_estimator(KNeighborsClassifier(**knn_best))"
   ]
  },
  {
   "cell_type": "code",
   "execution_count": 21,
   "metadata": {},
   "outputs": [
    {
     "data": {
      "text/plain": [
       "'AUC: 0.7594624860022396'"
      ]
     },
     "execution_count": 21,
     "metadata": {},
     "output_type": "execute_result"
    },
    {
     "data": {
      "image/png": "[encoded data removed]",
      "text/plain": [
       "<Figure size 432x288 with 1 Axes>"
      ]
     },
     "metadata": {
      "needs_background": "light"
     },
     "output_type": "display_data"
    }
   ],
   "source": [
    "plot_roc_calc_auc_audio(KNeighborsClassifier(**knn_best))"
   ]
  },
  {
   "cell_type": "markdown",
   "metadata": {},
   "source": [
    "# Logistic Regression"
   ]
  },
  {
   "cell_type": "code",
   "execution_count": 22,
   "metadata": {},
   "outputs": [
    {
     "data": {
      "text/plain": [
       "{'C': 1, 'penalty': 'l2'}"
      ]
     },
     "execution_count": 22,
     "metadata": {},
     "output_type": "execute_result"
    }
   ],
   "source": [
    "param_grid = {'C': [pow(10, i) for i in range(-3, 4)], 'penalty': ['l1', 'l2']}\n",
    "grid = GridSearchCV(LogisticRegression(), param_grid=param_grid, cv=5)\n",
    "grid.fit(X, y)\n",
    "logreg_best = grid.best_params_\n",
    "logreg_best"
   ]
  },
  {
   "cell_type": "code",
   "execution_count": 23,
   "metadata": {},
   "outputs": [
    {
     "data": {
      "text/plain": [
       "{'accuracy_score': 0.7293562708102108,\n",
       " 'f1_score': 0.7658774423422235,\n",
       " 'precision_score': 0.733990286511349,\n",
       " 'recall_score': 0.8051502145922746}"
      ]
     },
     "execution_count": 23,
     "metadata": {},
     "output_type": "execute_result"
    }
   ],
   "source": [
    "score_estimator(LogisticRegression(**logreg_best))"
   ]
  },
  {
   "cell_type": "code",
   "execution_count": 24,
   "metadata": {},
   "outputs": [
    {
     "data": {
      "text/plain": [
       "'AUC: 0.8507502799552071'"
      ]
     },
     "execution_count": 24,
     "metadata": {},
     "output_type": "execute_result"
    },
    {
     "data": {
      "image/png": "[encoded data removed]",
      "text/plain": [
       "<Figure size 432x288 with 1 Axes>"
      ]
     },
     "metadata": {
      "needs_background": "light"
     },
     "output_type": "display_data"
    }
   ],
   "source": [
    "plot_roc_calc_auc_audio(LogisticRegression(**logreg_best))"
   ]
  },
  {
   "cell_type": "markdown",
   "metadata": {},
   "source": [
    "# Gaussian Naive Bayes"
   ]
  },
  {
   "cell_type": "code",
   "execution_count": 25,
   "metadata": {},
   "outputs": [
    {
     "data": {
      "text/plain": [
       "{'accuracy_score': 0.6926215316315206,\n",
       " 'f1_score': 0.7405519952085428,\n",
       " 'precision_score': 0.6946425557183566,\n",
       " 'recall_score': 0.7974248927038626}"
      ]
     },
     "execution_count": 25,
     "metadata": {},
     "output_type": "execute_result"
    }
   ],
   "source": [
    "score_estimator(GaussianNB())"
   ]
  },
  {
   "cell_type": "code",
   "execution_count": 26,
   "metadata": {},
   "outputs": [
    {
     "data": {
      "text/plain": [
       "'AUC: 0.8073236282194849'"
      ]
     },
     "execution_count": 26,
     "metadata": {},
     "output_type": "execute_result"
    },
    {
     "data": {
      "image/png": "[encoded data removed]",
      "text/plain": [
       "<Figure size 432x288 with 1 Axes>"
      ]
     },
     "metadata": {
      "needs_background": "light"
     },
     "output_type": "display_data"
    }
   ],
   "source": [
    "plot_roc_calc_auc_audio(GaussianNB())"
   ]
  },
  {
   "cell_type": "markdown",
   "metadata": {},
   "source": [
    "# Linear SVC"
   ]
  },
  {
   "cell_type": "code",
   "execution_count": 27,
   "metadata": {},
   "outputs": [
    {
     "data": {
      "text/plain": [
       "{'accuracy_score': 0.6096415094339622,\n",
       " 'f1_score': 0.5506318467306538,\n",
       " 'precision_score': 0.7594502080731643,\n",
       " 'recall_score': 0.8369098712446352}"
      ]
     },
     "execution_count": 27,
     "metadata": {},
     "output_type": "execute_result"
    }
   ],
   "source": [
    "score_estimator(LinearSVC())"
   ]
  },
  {
   "cell_type": "markdown",
   "metadata": {},
   "source": [
    "# SVC"
   ]
  },
  {
   "cell_type": "code",
   "execution_count": null,
   "metadata": {},
   "outputs": [],
   "source": [
    "#: Too slow... run overnight?\n",
    "\n",
    "# param_grid = {'kernel': ['poly', 'rbf', 'precomputed', 'sigmoid']}\n",
    "# grid = GridSearchCV(SVC(), param_grid=param_grid, cv=5)\n",
    "# grid.fit(X, y)\n",
    "# svc_best = grid.best_params_\n",
    "# svc_best"
   ]
  },
  {
   "cell_type": "code",
   "execution_count": 28,
   "metadata": {},
   "outputs": [
    {
     "data": {
      "text/plain": [
       "{'accuracy_score': 0.6473362930077691,\n",
       " 'f1_score': 0.6808410270837189,\n",
       " 'precision_score': 0.6835264790022956,\n",
       " 'recall_score': 0.6824034334763949}"
      ]
     },
     "execution_count": 28,
     "metadata": {},
     "output_type": "execute_result"
    }
   ],
   "source": [
    "score_estimator(SVC())"
   ]
  },
  {
   "cell_type": "code",
   "execution_count": 29,
   "metadata": {},
   "outputs": [
    {
     "data": {
      "text/plain": [
       "'AUC: 0.7664837625979843'"
      ]
     },
     "execution_count": 29,
     "metadata": {},
     "output_type": "execute_result"
    },
    {
     "data": {
      "image/png": "[encoded data removed]",
      "text/plain": [
       "<Figure size 432x288 with 1 Axes>"
      ]
     },
     "metadata": {
      "needs_background": "light"
     },
     "output_type": "display_data"
    }
   ],
   "source": [
    "plot_roc_calc_auc_audio(SVC(probability=True))"
   ]
  },
  {
   "cell_type": "markdown",
   "metadata": {},
   "source": [
    "# Decision Tree"
   ]
  },
  {
   "cell_type": "code",
   "execution_count": 21,
   "metadata": {},
   "outputs": [
    {
     "data": {
      "text/plain": [
       "{'criterion': 'gini'}"
      ]
     },
     "execution_count": 21,
     "metadata": {},
     "output_type": "execute_result"
    }
   ],
   "source": [
    "param_grid = {'criterion': ['gini', 'entropy']}\n",
    "grid = GridSearchCV(DecisionTreeClassifier(), param_grid=param_grid, cv=5)\n",
    "grid.fit(X, y)\n",
    "dectree_best = grid.best_params_\n",
    "dectree_best"
   ]
  },
  {
   "cell_type": "code",
   "execution_count": 25,
   "metadata": {},
   "outputs": [
    {
     "data": {
      "text/plain": [
       "{'accuracy_score': 0.6708923418423973,\n",
       " 'f1_score': 0.7194297784423733,\n",
       " 'precision_score': 0.6690613915091113,\n",
       " 'recall_score': 0.7648068669527897}"
      ]
     },
     "execution_count": 25,
     "metadata": {},
     "output_type": "execute_result"
    }
   ],
   "source": [
    "score_estimator(DecisionTreeClassifier(**dectree_best))"
   ]
  },
  {
   "cell_type": "code",
   "execution_count": 26,
   "metadata": {},
   "outputs": [
    {
     "data": {
      "text/plain": [
       "'AUC: 0.8173012318029115'"
      ]
     },
     "execution_count": 26,
     "metadata": {},
     "output_type": "execute_result"
    },
    {
     "data": {
      "image/png": "[encoded data removed]",
      "text/plain": [
       "<Figure size 432x288 with 1 Axes>"
      ]
     },
     "metadata": {
      "needs_background": "light"
     },
     "output_type": "display_data"
    }
   ],
   "source": [
    "plot_roc_calc_auc_audio(DecisionTreeClassifier(**dectree_best))"
   ]
  },
  {
   "cell_type": "markdown",
   "metadata": {},
   "source": [
    "# Random Forest"
   ]
  },
  {
   "cell_type": "code",
   "execution_count": 27,
   "metadata": {},
   "outputs": [
    {
     "data": {
      "text/plain": [
       "{'criterion': 'entropy'}"
      ]
     },
     "execution_count": 27,
     "metadata": {},
     "output_type": "execute_result"
    }
   ],
   "source": [
    "param_grid = {'criterion': ['gini', 'entropy']}\n",
    "grid = GridSearchCV(RandomForestClassifier(), param_grid=param_grid, cv=5)\n",
    "grid.fit(X, y)\n",
    "randforest_best = grid.best_params_\n",
    "randforest_best"
   ]
  },
  {
   "cell_type": "code",
   "execution_count": 28,
   "metadata": {},
   "outputs": [
    {
     "data": {
      "text/plain": [
       "{'accuracy_score': 0.7364428412874584,\n",
       " 'f1_score': 0.7689503275034921,\n",
       " 'precision_score': 0.7467092079003141,\n",
       " 'recall_score': 0.8163090128755364}"
      ]
     },
     "execution_count": 28,
     "metadata": {},
     "output_type": "execute_result"
    }
   ],
   "source": [
    "score_estimator(RandomForestClassifier(**randforest_best))"
   ]
  },
  {
   "cell_type": "code",
   "execution_count": 29,
   "metadata": {},
   "outputs": [
    {
     "data": {
      "text/plain": [
       "'AUC: 0.9693952967525197'"
      ]
     },
     "execution_count": 29,
     "metadata": {},
     "output_type": "execute_result"
    },
    {
     "data": {
      "image/png": "[encoded data removed]",
      "text/plain": [
       "<Figure size 432x288 with 1 Axes>"
      ]
     },
     "metadata": {
      "needs_background": "light"
     },
     "output_type": "display_data"
    }
   ],
   "source": [
    "plot_roc_calc_auc_audio(RandomForestClassifier(**randforest_best))"
   ]
  },
  {
   "cell_type": "code",
   "execution_count": null,
   "metadata": {},
   "outputs": [],
   "source": []
  },
  {
   "cell_type": "code",
   "execution_count": null,
   "metadata": {},
   "outputs": [],
   "source": []
  },
  {
   "cell_type": "code",
   "execution_count": null,
   "metadata": {},
   "outputs": [],
   "source": []
  },
  {
   "cell_type": "code",
   "execution_count": null,
   "metadata": {},
   "outputs": [],
   "source": []
  },
  {
   "cell_type": "code",
   "execution_count": null,
   "metadata": {},
   "outputs": [],
   "source": []
  },
  {
   "cell_type": "code",
   "execution_count": null,
   "metadata": {},
   "outputs": [],
   "source": []
  },
  {
   "cell_type": "code",
   "execution_count": null,
   "metadata": {},
   "outputs": [],
   "source": []
  }
 ],
 "metadata": {
  "kernelspec": {
   "display_name": "Python 3",
   "language": "python",
   "name": "python3"
  },
  "language_info": {
   "codemirror_mode": {
    "name": "ipython",
    "version": 3
   },
   "file_extension": ".py",
   "mimetype": "text/x-python",
   "name": "python",
   "nbconvert_exporter": "python",
   "pygments_lexer": "ipython3",
   "version": "3.7.2"
  }
 },
 "nbformat": 4,
 "nbformat_minor": 2
}
