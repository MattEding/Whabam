{
 "cells": [
  {
   "cell_type": "code",
   "execution_count": 2,
   "metadata": {},
   "outputs": [],
   "source": [
    "import pandas as pd\n",
    "import psycopg2 as pg\n",
    "\n",
    "import database"
   ]
  },
  {
   "cell_type": "code",
   "execution_count": 3,
   "metadata": {},
   "outputs": [],
   "source": [
    "connection = database.connect_db()"
   ]
  },
  {
   "cell_type": "code",
   "execution_count": 9,
   "metadata": {},
   "outputs": [],
   "source": [
    "# use atom ctr-D to easily copy-paste new fields\n",
    "query = \"\"\"\n",
    "SELECT\n",
    "    pitch_0.mean AS p0_mean,\n",
    "    pitch_0.mode AS p0_mode,\n",
    "    pitch_0.median AS p0_median,\n",
    "    pitch_0.amax AS p0_max,\n",
    "    pitch_0.amin AS p0_min,\n",
    "    pitch_0.std AS p0_std,\n",
    "    \n",
    "    pitch_1.mean AS p1_mean,\n",
    "    \n",
    "    pitch_2.mean AS p2_mean,\n",
    "    \n",
    "    pitch_3.mean AS p3_mean,\n",
    "    \n",
    "    pitch_4.mean AS p4_mean,\n",
    "    \n",
    "    pitch_5.mean AS p5_mean,\n",
    "    \n",
    "    pitch_6.mean AS p6_mean,\n",
    "    \n",
    "    pitch_7.mean AS p7_mean,\n",
    "    \n",
    "    pitch_8.mean AS p8_mean,\n",
    "    \n",
    "    pitch_9.mean AS p9_mean,\n",
    "    \n",
    "    pitch_10.mean AS p10_mean,\n",
    "    \n",
    "    pitch_11.mean AS p11_mean\n",
    "    \n",
    "    \n",
    "FROM pitch_0\n",
    "LEFT JOIN pitch_1  ON pitch_0.song = pitch_1.song  AND pitch_0.segment = pitch_1.segment\n",
    "LEFT JOIN pitch_2  ON pitch_0.song = pitch_2.song  AND pitch_0.segment = pitch_2.segment\n",
    "LEFT JOIN pitch_3  ON pitch_0.song = pitch_3.song  AND pitch_0.segment = pitch_3.segment\n",
    "LEFT JOIN pitch_4  ON pitch_0.song = pitch_4.song  AND pitch_0.segment = pitch_4.segment\n",
    "LEFT JOIN pitch_5  ON pitch_0.song = pitch_5.song  AND pitch_0.segment = pitch_5.segment\n",
    "LEFT JOIN pitch_6  ON pitch_0.song = pitch_6.song  AND pitch_0.segment = pitch_6.segment\n",
    "LEFT JOIN pitch_7  ON pitch_0.song = pitch_7.song  AND pitch_0.segment = pitch_7.segment\n",
    "LEFT JOIN pitch_8  ON pitch_0.song = pitch_8.song  AND pitch_0.segment = pitch_8.segment\n",
    "LEFT JOIN pitch_9  ON pitch_0.song = pitch_9.song  AND pitch_0.segment = pitch_9.segment\n",
    "LEFT JOIN pitch_10 ON pitch_0.song = pitch_10.song AND pitch_0.segment = pitch_10.segment\n",
    "LEFT JOIN pitch_11 ON pitch_0.song = pitch_11.song AND pitch_0.segment = pitch_11.segment;\n",
    "\"\"\""
   ]
  },
  {
   "cell_type": "code",
   "execution_count": null,
   "metadata": {},
   "outputs": [],
   "source": [
    "result = cursor.execute(query)"
   ]
  },
  {
   "cell_type": "code",
   "execution_count": 10,
   "metadata": {},
   "outputs": [],
   "source": [
    "df = pd.read_sql(query, connection)"
   ]
  },
  {
   "cell_type": "code",
   "execution_count": 11,
   "metadata": {},
   "outputs": [
    {
     "data": {
      "text/html": [
       "<div>\n",
       "<style scoped>\n",
       "    .dataframe tbody tr th:only-of-type {\n",
       "        vertical-align: middle;\n",
       "    }\n",
       "\n",
       "    .dataframe tbody tr th {\n",
       "        vertical-align: top;\n",
       "    }\n",
       "\n",
       "    .dataframe thead th {\n",
       "        text-align: right;\n",
       "    }\n",
       "</style>\n",
       "<table border=\"1\" class=\"dataframe\">\n",
       "  <thead>\n",
       "    <tr style=\"text-align: right;\">\n",
       "      <th></th>\n",
       "      <th>p0_mean</th>\n",
       "      <th>p1_mean</th>\n",
       "      <th>p2_mean</th>\n",
       "      <th>p3_mean</th>\n",
       "      <th>p4_mean</th>\n",
       "      <th>p5_mean</th>\n",
       "      <th>p6_mean</th>\n",
       "      <th>p7_mean</th>\n",
       "      <th>p8_mean</th>\n",
       "      <th>p9_mean</th>\n",
       "      <th>p10_mean</th>\n",
       "      <th>p11_mean</th>\n",
       "    </tr>\n",
       "  </thead>\n",
       "  <tbody>\n",
       "    <tr>\n",
       "      <th>0</th>\n",
       "      <td>0.478847</td>\n",
       "      <td>0.396772</td>\n",
       "      <td>0.125975</td>\n",
       "      <td>0.122057</td>\n",
       "      <td>0.182186</td>\n",
       "      <td>0.473038</td>\n",
       "      <td>0.529897</td>\n",
       "      <td>0.167450</td>\n",
       "      <td>0.168881</td>\n",
       "      <td>0.158108</td>\n",
       "      <td>0.323886</td>\n",
       "      <td>0.237460</td>\n",
       "    </tr>\n",
       "    <tr>\n",
       "      <th>1</th>\n",
       "      <td>0.535089</td>\n",
       "      <td>0.460853</td>\n",
       "      <td>0.153411</td>\n",
       "      <td>0.151650</td>\n",
       "      <td>0.216026</td>\n",
       "      <td>0.497114</td>\n",
       "      <td>0.575560</td>\n",
       "      <td>0.228770</td>\n",
       "      <td>0.219865</td>\n",
       "      <td>0.219131</td>\n",
       "      <td>0.368779</td>\n",
       "      <td>0.272720</td>\n",
       "    </tr>\n",
       "    <tr>\n",
       "      <th>2</th>\n",
       "      <td>0.532976</td>\n",
       "      <td>0.458424</td>\n",
       "      <td>0.156275</td>\n",
       "      <td>0.176226</td>\n",
       "      <td>0.216139</td>\n",
       "      <td>0.513915</td>\n",
       "      <td>0.563739</td>\n",
       "      <td>0.233496</td>\n",
       "      <td>0.231977</td>\n",
       "      <td>0.233574</td>\n",
       "      <td>0.395313</td>\n",
       "      <td>0.293611</td>\n",
       "    </tr>\n",
       "    <tr>\n",
       "      <th>3</th>\n",
       "      <td>0.560920</td>\n",
       "      <td>0.466850</td>\n",
       "      <td>0.166367</td>\n",
       "      <td>0.164566</td>\n",
       "      <td>0.213470</td>\n",
       "      <td>0.491722</td>\n",
       "      <td>0.558483</td>\n",
       "      <td>0.228801</td>\n",
       "      <td>0.232974</td>\n",
       "      <td>0.227487</td>\n",
       "      <td>0.386434</td>\n",
       "      <td>0.293144</td>\n",
       "    </tr>\n",
       "    <tr>\n",
       "      <th>4</th>\n",
       "      <td>0.553595</td>\n",
       "      <td>0.455063</td>\n",
       "      <td>0.161908</td>\n",
       "      <td>0.164667</td>\n",
       "      <td>0.226997</td>\n",
       "      <td>0.517006</td>\n",
       "      <td>0.575496</td>\n",
       "      <td>0.243437</td>\n",
       "      <td>0.243798</td>\n",
       "      <td>0.274195</td>\n",
       "      <td>0.440270</td>\n",
       "      <td>0.306196</td>\n",
       "    </tr>\n",
       "  </tbody>\n",
       "</table>\n",
       "</div>"
      ],
      "text/plain": [
       "    p0_mean   p1_mean   p2_mean   p3_mean   p4_mean   p5_mean   p6_mean  \\\n",
       "0  0.478847  0.396772  0.125975  0.122057  0.182186  0.473038  0.529897   \n",
       "1  0.535089  0.460853  0.153411  0.151650  0.216026  0.497114  0.575560   \n",
       "2  0.532976  0.458424  0.156275  0.176226  0.216139  0.513915  0.563739   \n",
       "3  0.560920  0.466850  0.166367  0.164566  0.213470  0.491722  0.558483   \n",
       "4  0.553595  0.455063  0.161908  0.164667  0.226997  0.517006  0.575496   \n",
       "\n",
       "    p7_mean   p8_mean   p9_mean  p10_mean  p11_mean  \n",
       "0  0.167450  0.168881  0.158108  0.323886  0.237460  \n",
       "1  0.228770  0.219865  0.219131  0.368779  0.272720  \n",
       "2  0.233496  0.231977  0.233574  0.395313  0.293611  \n",
       "3  0.228801  0.232974  0.227487  0.386434  0.293144  \n",
       "4  0.243437  0.243798  0.274195  0.440270  0.306196  "
      ]
     },
     "execution_count": 11,
     "metadata": {},
     "output_type": "execute_result"
    }
   ],
   "source": [
    "df.head()"
   ]
  },
  {
   "cell_type": "code",
   "execution_count": null,
   "metadata": {},
   "outputs": [],
   "source": []
  },
  {
   "cell_type": "code",
   "execution_count": null,
   "metadata": {},
   "outputs": [],
   "source": []
  },
  {
   "cell_type": "code",
   "execution_count": null,
   "metadata": {},
   "outputs": [],
   "source": []
  },
  {
   "cell_type": "code",
   "execution_count": 12,
   "metadata": {},
   "outputs": [],
   "source": [
    "connection.close()"
   ]
  },
  {
   "cell_type": "code",
   "execution_count": 13,
   "metadata": {},
   "outputs": [],
   "source": [
    "del df"
   ]
  },
  {
   "cell_type": "code",
   "execution_count": null,
   "metadata": {},
   "outputs": [],
   "source": []
  }
 ],
 "metadata": {
  "kernelspec": {
   "display_name": "Python 3",
   "language": "python",
   "name": "python3"
  },
  "language_info": {
   "codemirror_mode": {
    "name": "ipython",
    "version": 3
   },
   "file_extension": ".py",
   "mimetype": "text/x-python",
   "name": "python",
   "nbconvert_exporter": "python",
   "pygments_lexer": "ipython3",
   "version": "3.7.2"
  }
 },
 "nbformat": 4,
 "nbformat_minor": 2
}
