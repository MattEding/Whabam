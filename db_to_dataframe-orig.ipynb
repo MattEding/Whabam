{
 "cells": [
  {
   "cell_type": "code",
   "execution_count": 106,
   "metadata": {},
   "outputs": [],
   "source": [
    "from pathlib import Path\n",
    "from string import punctuation\n",
    "\n",
    "import pandas as pd\n",
    "import psycopg2 as pg\n",
    "\n",
    "import database"
   ]
  },
  {
   "cell_type": "code",
   "execution_count": 2,
   "metadata": {},
   "outputs": [],
   "source": [
    "def agg_factory_SELECT(agg):\n",
    "    return \"{feature}.{agg} AS {feature}_{agg}\".format(agg=agg, feature=\"{feature}\")"
   ]
  },
  {
   "cell_type": "code",
   "execution_count": null,
   "metadata": {},
   "outputs": [],
   "source": []
  },
  {
   "cell_type": "code",
   "execution_count": null,
   "metadata": {},
   "outputs": [],
   "source": [
    "def find_dupes_QUERY(feature):\n",
    "    return \"\"\"\n",
    "    SELECT\n",
    "      song,\n",
    "      segment,\n",
    "      COUNT(*)\n",
    "    FROM {feature}\n",
    "    GROUP BY\n",
    "      song,\n",
    "      segment\n",
    "    HAVING COUNT(*) > 1;\n",
    "    \"\"\""
   ]
  },
  {
   "cell_type": "code",
   "execution_count": null,
   "metadata": {},
   "outputs": [],
   "source": []
  },
  {
   "cell_type": "code",
   "execution_count": 4,
   "metadata": {},
   "outputs": [],
   "source": [
    "pitches = [f'pitch_{i}' for i in range(12)]\n",
    "# spectrals = \"spectral_bandwidth spectral_centroid spectral_flatness spectral_rolloff\".split()\n",
    "# tonnetzes = \"x_perf5 x_min3 x_maj3 y_perf5 y_min3 y_maj3\".split()\n",
    "# features = \"tempogram dynamic_tempo rmse zero_crossing_rate\".split()\n",
    "features = \"dynamic_tempo\".split()\n",
    "# agg_features = features + spectrals + tonnetzes + pitches\n",
    "agg_features = features + pitches"
   ]
  },
  {
   "cell_type": "code",
   "execution_count": 5,
   "metadata": {},
   "outputs": [],
   "source": [
    "def features_aggs_SELECT(features, *aggs):\n",
    "    aggs = ',\\n'.join(agg_factory_SELECT(agg) for agg in aggs)\n",
    "    return ',\\n\\n'.join(aggs.format(feature=feature) for feature in features)"
   ]
  },
  {
   "cell_type": "code",
   "execution_count": 6,
   "metadata": {},
   "outputs": [],
   "source": [
    "def table_others_LEFT_JOIN(table, *others):\n",
    "    leftjoin = \"LEFT JOIN {other} ON {table}.song={other}.song AND \" \\\n",
    "               \"{table}.segment={other}.segment\".format(table=table, other=\"{other}\")  # use () to slit lines?\n",
    "    \n",
    "    leftjoins = \"\\n\".join(leftjoin.format(other=other) for other in others)\n",
    "    return f'FROM {table}\\n{leftjoins}'"
   ]
  },
  {
   "cell_type": "code",
   "execution_count": 9,
   "metadata": {},
   "outputs": [
    {
     "name": "stdout",
     "output_type": "stream",
     "text": [
      "\n",
      "SELECT\n",
      "tempo.val AS tempo,\n",
      "tempo.song AS song,\n",
      "tempo.segment AS seg,\n",
      "\n",
      "dynamic_tempo.mean AS dynamic_tempo_mean,\n",
      "dynamic_tempo.median AS dynamic_tempo_median,\n",
      "dynamic_tempo.std AS dynamic_tempo_std,\n",
      "\n",
      "pitch_0.mean AS pitch_0_mean,\n",
      "pitch_0.median AS pitch_0_median,\n",
      "pitch_0.std AS pitch_0_std,\n",
      "\n",
      "pitch_1.mean AS pitch_1_mean,\n",
      "pitch_1.median AS pitch_1_median,\n",
      "pitch_1.std AS pitch_1_std,\n",
      "\n",
      "pitch_2.mean AS pitch_2_mean,\n",
      "pitch_2.median AS pitch_2_median,\n",
      "pitch_2.std AS pitch_2_std,\n",
      "\n",
      "pitch_3.mean AS pitch_3_mean,\n",
      "pitch_3.median AS pitch_3_median,\n",
      "pitch_3.std AS pitch_3_std,\n",
      "\n",
      "pitch_4.mean AS pitch_4_mean,\n",
      "pitch_4.median AS pitch_4_median,\n",
      "pitch_4.std AS pitch_4_std,\n",
      "\n",
      "pitch_5.mean AS pitch_5_mean,\n",
      "pitch_5.median AS pitch_5_median,\n",
      "pitch_5.std AS pitch_5_std,\n",
      "\n",
      "pitch_6.mean AS pitch_6_mean,\n",
      "pitch_6.median AS pitch_6_median,\n",
      "pitch_6.std AS pitch_6_std,\n",
      "\n",
      "pitch_7.mean AS pitch_7_mean,\n",
      "pitch_7.median AS pitch_7_median,\n",
      "pitch_7.std AS pitch_7_std,\n",
      "\n",
      "pitch_8.mean AS pitch_8_mean,\n",
      "pitch_8.median AS pitch_8_median,\n",
      "pitch_8.std AS pitch_8_std,\n",
      "\n",
      "pitch_9.mean AS pitch_9_mean,\n",
      "pitch_9.median AS pitch_9_median,\n",
      "pitch_9.std AS pitch_9_std,\n",
      "\n",
      "pitch_10.mean AS pitch_10_mean,\n",
      "pitch_10.median AS pitch_10_median,\n",
      "pitch_10.std AS pitch_10_std,\n",
      "\n",
      "pitch_11.mean AS pitch_11_mean,\n",
      "pitch_11.median AS pitch_11_median,\n",
      "pitch_11.std AS pitch_11_std\n",
      "\n",
      "FROM tempo\n",
      "LEFT JOIN dynamic_tempo ON tempo.song=dynamic_tempo.song AND tempo.segment=dynamic_tempo.segment\n",
      "LEFT JOIN pitch_0 ON tempo.song=pitch_0.song AND tempo.segment=pitch_0.segment\n",
      "LEFT JOIN pitch_1 ON tempo.song=pitch_1.song AND tempo.segment=pitch_1.segment\n",
      "LEFT JOIN pitch_2 ON tempo.song=pitch_2.song AND tempo.segment=pitch_2.segment\n",
      "LEFT JOIN pitch_3 ON tempo.song=pitch_3.song AND tempo.segment=pitch_3.segment\n",
      "LEFT JOIN pitch_4 ON tempo.song=pitch_4.song AND tempo.segment=pitch_4.segment\n",
      "LEFT JOIN pitch_5 ON tempo.song=pitch_5.song AND tempo.segment=pitch_5.segment\n",
      "LEFT JOIN pitch_6 ON tempo.song=pitch_6.song AND tempo.segment=pitch_6.segment\n",
      "LEFT JOIN pitch_7 ON tempo.song=pitch_7.song AND tempo.segment=pitch_7.segment\n",
      "LEFT JOIN pitch_8 ON tempo.song=pitch_8.song AND tempo.segment=pitch_8.segment\n",
      "LEFT JOIN pitch_9 ON tempo.song=pitch_9.song AND tempo.segment=pitch_9.segment\n",
      "LEFT JOIN pitch_10 ON tempo.song=pitch_10.song AND tempo.segment=pitch_10.segment\n",
      "LEFT JOIN pitch_11 ON tempo.song=pitch_11.song AND tempo.segment=pitch_11.segment;\n",
      "\n"
     ]
    }
   ],
   "source": [
    "# NOTE: treat 'tempo' feature differently since it only has one feature -- 'val'\n",
    "\n",
    "features_SELECT = features_aggs_SELECT(agg_features, 'mean', 'median', 'std') #'mode'\n",
    "features_LEFT_JOIN = table_others_LEFT_JOIN(\"tempo\", *agg_features)\n",
    "features_SELECT_LEFT_JOIN = f\"SELECT\\n{features_SELECT}\\n\\n{features_LEFT_JOIN}\"\n",
    "\n",
    "features_QUERY = f\"\"\"\n",
    "SELECT\n",
    "tempo.val AS tempo,\n",
    "tempo.song AS song,\n",
    "tempo.segment AS seg,\n",
    "\n",
    "{features_SELECT}\n",
    "\n",
    "{features_LEFT_JOIN};\n",
    "\"\"\"\n",
    "\n",
    "print(features_QUERY)"
   ]
  },
  {
   "cell_type": "code",
   "execution_count": 57,
   "metadata": {},
   "outputs": [],
   "source": [
    "connection = database.connect_db()"
   ]
  },
  {
   "cell_type": "code",
   "execution_count": 12,
   "metadata": {},
   "outputs": [
    {
     "name": "stdout",
     "output_type": "stream",
     "text": [
      "Tuesday, 12. February 2019 08:51AM \n",
      "\n",
      "Tuesday, 12. February 2019 09:41AM \n",
      "\n"
     ]
    }
   ],
   "source": [
    "from datetime import datetime\n",
    "\n",
    "#takes 50 minutes since it is joining things weirdly from 2100 entries to 9 million entries...\n",
    "print(datetime.now().strftime(\"%A, %d. %B %Y %I:%M%p\"), '\\n')\n",
    "# df = pd.read_sql(features_QUERY, connection)   # uncomment to run at own peril\n",
    "print(datetime.now().strftime(\"%A, %d. %B %Y %I:%M%p\"), '\\n')"
   ]
  },
  {
   "cell_type": "code",
   "execution_count": 13,
   "metadata": {},
   "outputs": [],
   "source": [
    "# df.to_pickle(\"joined_df.pkl\")"
   ]
  },
  {
   "cell_type": "code",
   "execution_count": 15,
   "metadata": {},
   "outputs": [
    {
     "data": {
      "text/plain": [
       "(9895717, 42)"
      ]
     },
     "execution_count": 15,
     "metadata": {},
     "output_type": "execute_result"
    }
   ],
   "source": [
    "df.shape  # wtf?"
   ]
  },
  {
   "cell_type": "code",
   "execution_count": 43,
   "metadata": {},
   "outputs": [],
   "source": [
    "df_no_dupes = df.drop_duplicates(subset=['song', 'seg'])"
   ]
  },
  {
   "cell_type": "code",
   "execution_count": 44,
   "metadata": {},
   "outputs": [
    {
     "data": {
      "text/plain": [
       "(2121, 42)"
      ]
     },
     "execution_count": 44,
     "metadata": {},
     "output_type": "execute_result"
    }
   ],
   "source": [
    "df_no_dupes.shape  # now correct"
   ]
  },
  {
   "cell_type": "code",
   "execution_count": 45,
   "metadata": {},
   "outputs": [],
   "source": [
    "df_no_dupes.to_pickle(\"joined_df.pkl\")"
   ]
  },
  {
   "cell_type": "code",
   "execution_count": 46,
   "metadata": {},
   "outputs": [],
   "source": [
    "del df"
   ]
  },
  {
   "cell_type": "code",
   "execution_count": 99,
   "metadata": {},
   "outputs": [],
   "source": [
    "connection.close()"
   ]
  },
  {
   "cell_type": "code",
   "execution_count": 95,
   "metadata": {},
   "outputs": [
    {
     "data": {
      "text/html": [
       "<div>\n",
       "<style scoped>\n",
       "    .dataframe tbody tr th:only-of-type {\n",
       "        vertical-align: middle;\n",
       "    }\n",
       "\n",
       "    .dataframe tbody tr th {\n",
       "        vertical-align: top;\n",
       "    }\n",
       "\n",
       "    .dataframe thead th {\n",
       "        text-align: right;\n",
       "    }\n",
       "</style>\n",
       "<table border=\"1\" class=\"dataframe\">\n",
       "  <thead>\n",
       "    <tr style=\"text-align: right;\">\n",
       "      <th></th>\n",
       "      <th>tempo</th>\n",
       "      <th>song</th>\n",
       "      <th>seg</th>\n",
       "      <th>dynamic_tempo_mean</th>\n",
       "      <th>dynamic_tempo_median</th>\n",
       "      <th>dynamic_tempo_std</th>\n",
       "      <th>pitch_0_mean</th>\n",
       "      <th>pitch_0_median</th>\n",
       "      <th>pitch_0_std</th>\n",
       "      <th>pitch_1_mean</th>\n",
       "      <th>...</th>\n",
       "      <th>pitch_8_std</th>\n",
       "      <th>pitch_9_mean</th>\n",
       "      <th>pitch_9_median</th>\n",
       "      <th>pitch_9_std</th>\n",
       "      <th>pitch_10_mean</th>\n",
       "      <th>pitch_10_median</th>\n",
       "      <th>pitch_10_std</th>\n",
       "      <th>pitch_11_mean</th>\n",
       "      <th>pitch_11_median</th>\n",
       "      <th>pitch_11_std</th>\n",
       "    </tr>\n",
       "  </thead>\n",
       "  <tbody>\n",
       "    <tr>\n",
       "      <th>0</th>\n",
       "      <td>161.499023</td>\n",
       "      <td>Infinite</td>\n",
       "      <td>0</td>\n",
       "      <td>131.606177</td>\n",
       "      <td>117.453835</td>\n",
       "      <td>21.591310</td>\n",
       "      <td>0.478847</td>\n",
       "      <td>0.436120</td>\n",
       "      <td>0.378404</td>\n",
       "      <td>0.396772</td>\n",
       "      <td>...</td>\n",
       "      <td>0.226710</td>\n",
       "      <td>0.158108</td>\n",
       "      <td>0.102223</td>\n",
       "      <td>0.137175</td>\n",
       "      <td>0.323886</td>\n",
       "      <td>0.108240</td>\n",
       "      <td>0.345245</td>\n",
       "      <td>0.237460</td>\n",
       "      <td>0.176930</td>\n",
       "      <td>0.171720</td>\n",
       "    </tr>\n",
       "    <tr>\n",
       "      <th>1</th>\n",
       "      <td>161.499023</td>\n",
       "      <td>Infinite</td>\n",
       "      <td>1</td>\n",
       "      <td>156.357925</td>\n",
       "      <td>161.499023</td>\n",
       "      <td>19.373141</td>\n",
       "      <td>0.535089</td>\n",
       "      <td>0.550514</td>\n",
       "      <td>0.360815</td>\n",
       "      <td>0.460853</td>\n",
       "      <td>...</td>\n",
       "      <td>0.216130</td>\n",
       "      <td>0.219131</td>\n",
       "      <td>0.150535</td>\n",
       "      <td>0.189497</td>\n",
       "      <td>0.368779</td>\n",
       "      <td>0.223701</td>\n",
       "      <td>0.338631</td>\n",
       "      <td>0.272720</td>\n",
       "      <td>0.188502</td>\n",
       "      <td>0.176208</td>\n",
       "    </tr>\n",
       "    <tr>\n",
       "      <th>2</th>\n",
       "      <td>161.499023</td>\n",
       "      <td>Infinite</td>\n",
       "      <td>2</td>\n",
       "      <td>161.499023</td>\n",
       "      <td>161.499023</td>\n",
       "      <td>0.000000</td>\n",
       "      <td>0.532976</td>\n",
       "      <td>0.535744</td>\n",
       "      <td>0.353502</td>\n",
       "      <td>0.458424</td>\n",
       "      <td>...</td>\n",
       "      <td>0.190942</td>\n",
       "      <td>0.233574</td>\n",
       "      <td>0.166762</td>\n",
       "      <td>0.190307</td>\n",
       "      <td>0.395313</td>\n",
       "      <td>0.242320</td>\n",
       "      <td>0.332752</td>\n",
       "      <td>0.293611</td>\n",
       "      <td>0.232436</td>\n",
       "      <td>0.176653</td>\n",
       "    </tr>\n",
       "    <tr>\n",
       "      <th>3</th>\n",
       "      <td>161.499023</td>\n",
       "      <td>Infinite</td>\n",
       "      <td>3</td>\n",
       "      <td>161.499023</td>\n",
       "      <td>161.499023</td>\n",
       "      <td>0.000000</td>\n",
       "      <td>0.560920</td>\n",
       "      <td>0.588350</td>\n",
       "      <td>0.356478</td>\n",
       "      <td>0.466850</td>\n",
       "      <td>...</td>\n",
       "      <td>0.238066</td>\n",
       "      <td>0.227487</td>\n",
       "      <td>0.155340</td>\n",
       "      <td>0.200086</td>\n",
       "      <td>0.386434</td>\n",
       "      <td>0.262794</td>\n",
       "      <td>0.347692</td>\n",
       "      <td>0.293144</td>\n",
       "      <td>0.206469</td>\n",
       "      <td>0.197045</td>\n",
       "    </tr>\n",
       "    <tr>\n",
       "      <th>4</th>\n",
       "      <td>161.499023</td>\n",
       "      <td>Infinite</td>\n",
       "      <td>4</td>\n",
       "      <td>151.700483</td>\n",
       "      <td>161.499023</td>\n",
       "      <td>24.860557</td>\n",
       "      <td>0.553595</td>\n",
       "      <td>0.556621</td>\n",
       "      <td>0.359414</td>\n",
       "      <td>0.455063</td>\n",
       "      <td>...</td>\n",
       "      <td>0.194140</td>\n",
       "      <td>0.274195</td>\n",
       "      <td>0.234160</td>\n",
       "      <td>0.215002</td>\n",
       "      <td>0.440270</td>\n",
       "      <td>0.356976</td>\n",
       "      <td>0.337480</td>\n",
       "      <td>0.306196</td>\n",
       "      <td>0.239138</td>\n",
       "      <td>0.183412</td>\n",
       "    </tr>\n",
       "  </tbody>\n",
       "</table>\n",
       "<p>5 rows × 42 columns</p>\n",
       "</div>"
      ],
      "text/plain": [
       "        tempo      song  seg  dynamic_tempo_mean  dynamic_tempo_median  \\\n",
       "0  161.499023  Infinite    0          131.606177            117.453835   \n",
       "1  161.499023  Infinite    1          156.357925            161.499023   \n",
       "2  161.499023  Infinite    2          161.499023            161.499023   \n",
       "3  161.499023  Infinite    3          161.499023            161.499023   \n",
       "4  161.499023  Infinite    4          151.700483            161.499023   \n",
       "\n",
       "   dynamic_tempo_std  pitch_0_mean  pitch_0_median  pitch_0_std  pitch_1_mean  \\\n",
       "0          21.591310      0.478847        0.436120     0.378404      0.396772   \n",
       "1          19.373141      0.535089        0.550514     0.360815      0.460853   \n",
       "2           0.000000      0.532976        0.535744     0.353502      0.458424   \n",
       "3           0.000000      0.560920        0.588350     0.356478      0.466850   \n",
       "4          24.860557      0.553595        0.556621     0.359414      0.455063   \n",
       "\n",
       "   ...  pitch_8_std  pitch_9_mean  pitch_9_median  pitch_9_std  pitch_10_mean  \\\n",
       "0  ...     0.226710      0.158108        0.102223     0.137175       0.323886   \n",
       "1  ...     0.216130      0.219131        0.150535     0.189497       0.368779   \n",
       "2  ...     0.190942      0.233574        0.166762     0.190307       0.395313   \n",
       "3  ...     0.238066      0.227487        0.155340     0.200086       0.386434   \n",
       "4  ...     0.194140      0.274195        0.234160     0.215002       0.440270   \n",
       "\n",
       "   pitch_10_median  pitch_10_std  pitch_11_mean  pitch_11_median  pitch_11_std  \n",
       "0         0.108240      0.345245       0.237460         0.176930      0.171720  \n",
       "1         0.223701      0.338631       0.272720         0.188502      0.176208  \n",
       "2         0.242320      0.332752       0.293611         0.232436      0.176653  \n",
       "3         0.262794      0.347692       0.293144         0.206469      0.197045  \n",
       "4         0.356976      0.337480       0.306196         0.239138      0.183412  \n",
       "\n",
       "[5 rows x 42 columns]"
      ]
     },
     "execution_count": 95,
     "metadata": {},
     "output_type": "execute_result"
    }
   ],
   "source": [
    "df_no_dupes.head()"
   ]
  },
  {
   "cell_type": "code",
   "execution_count": 82,
   "metadata": {},
   "outputs": [],
   "source": [
    "query = \"\"\"\n",
    "SELECT\n",
    "tempo.val AS tempo,\n",
    "tempo.song AS song,\n",
    "tempo.segment AS seg,\n",
    "\n",
    "pitch_0.mean AS pitch_0_mean,\n",
    "pitch_0.median AS pitch_0_median,\n",
    "pitch_0.std AS pitch_0_std\n",
    "\n",
    "FROM tempo\n",
    "LEFT JOIN pitch_0 ON tempo.song=pitch_0.song AND tempo.segment=pitch_0.segment;\n",
    "\"\"\""
   ]
  },
  {
   "cell_type": "code",
   "execution_count": 88,
   "metadata": {},
   "outputs": [],
   "source": [
    "query = \"\"\"\n",
    "SELECT\n",
    "tempo.val AS tempo,\n",
    "tempo.song AS song,\n",
    "tempo.segment AS seg\n",
    "\n",
    "FROM tempo;\n",
    "\"\"\""
   ]
  },
  {
   "cell_type": "code",
   "execution_count": 71,
   "metadata": {},
   "outputs": [],
   "source": [
    "query = \"\"\"\n",
    "SELECT\n",
    "pitch_0.song as song,\n",
    "pitch_0.segment as seg,\n",
    "pitch_0.mean AS pitch_0_mean,\n",
    "pitch_0.median AS pitch_0_median,\n",
    "pitch_0.std AS pitch_0_std\n",
    "\n",
    "FROM pitch_0;\n",
    "\"\"\""
   ]
  },
  {
   "cell_type": "code",
   "execution_count": null,
   "metadata": {},
   "outputs": [],
   "source": []
  },
  {
   "cell_type": "code",
   "execution_count": 89,
   "metadata": {},
   "outputs": [],
   "source": [
    "df_test = pd.read_sql(query, connection)"
   ]
  },
  {
   "cell_type": "code",
   "execution_count": 90,
   "metadata": {},
   "outputs": [
    {
     "data": {
      "text/plain": [
       "(2145, 3)"
      ]
     },
     "execution_count": 90,
     "metadata": {},
     "output_type": "execute_result"
    }
   ],
   "source": [
    "df_test.shape"
   ]
  },
  {
   "cell_type": "code",
   "execution_count": 74,
   "metadata": {},
   "outputs": [
    {
     "data": {
      "text/html": [
       "<div>\n",
       "<style scoped>\n",
       "    .dataframe tbody tr th:only-of-type {\n",
       "        vertical-align: middle;\n",
       "    }\n",
       "\n",
       "    .dataframe tbody tr th {\n",
       "        vertical-align: top;\n",
       "    }\n",
       "\n",
       "    .dataframe thead th {\n",
       "        text-align: right;\n",
       "    }\n",
       "</style>\n",
       "<table border=\"1\" class=\"dataframe\">\n",
       "  <thead>\n",
       "    <tr style=\"text-align: right;\">\n",
       "      <th></th>\n",
       "      <th>song</th>\n",
       "      <th>seg</th>\n",
       "      <th>pitch_0_mean</th>\n",
       "      <th>pitch_0_median</th>\n",
       "      <th>pitch_0_std</th>\n",
       "    </tr>\n",
       "  </thead>\n",
       "  <tbody>\n",
       "    <tr>\n",
       "      <th>242</th>\n",
       "      <td>RememberMe</td>\n",
       "      <td>0</td>\n",
       "      <td>0.298921</td>\n",
       "      <td>0.298856</td>\n",
       "      <td>0.137504</td>\n",
       "    </tr>\n",
       "    <tr>\n",
       "      <th>243</th>\n",
       "      <td>RememberMe</td>\n",
       "      <td>1</td>\n",
       "      <td>0.285447</td>\n",
       "      <td>0.292834</td>\n",
       "      <td>0.126076</td>\n",
       "    </tr>\n",
       "    <tr>\n",
       "      <th>244</th>\n",
       "      <td>RememberMe</td>\n",
       "      <td>2</td>\n",
       "      <td>0.293660</td>\n",
       "      <td>0.247067</td>\n",
       "      <td>0.140996</td>\n",
       "    </tr>\n",
       "    <tr>\n",
       "      <th>269</th>\n",
       "      <td>KenKaniff</td>\n",
       "      <td>0</td>\n",
       "      <td>0.343874</td>\n",
       "      <td>0.258309</td>\n",
       "      <td>0.264737</td>\n",
       "    </tr>\n",
       "    <tr>\n",
       "      <th>270</th>\n",
       "      <td>KenKaniff</td>\n",
       "      <td>1</td>\n",
       "      <td>0.535997</td>\n",
       "      <td>0.547917</td>\n",
       "      <td>0.255880</td>\n",
       "    </tr>\n",
       "    <tr>\n",
       "      <th>330</th>\n",
       "      <td>TheWayIAm</td>\n",
       "      <td>0</td>\n",
       "      <td>0.319524</td>\n",
       "      <td>0.250079</td>\n",
       "      <td>0.217544</td>\n",
       "    </tr>\n",
       "    <tr>\n",
       "      <th>331</th>\n",
       "      <td>TheWayIAm</td>\n",
       "      <td>1</td>\n",
       "      <td>0.369592</td>\n",
       "      <td>0.296501</td>\n",
       "      <td>0.215209</td>\n",
       "    </tr>\n",
       "    <tr>\n",
       "      <th>332</th>\n",
       "      <td>TheWayIAm</td>\n",
       "      <td>2</td>\n",
       "      <td>0.449232</td>\n",
       "      <td>0.325292</td>\n",
       "      <td>0.288762</td>\n",
       "    </tr>\n",
       "    <tr>\n",
       "      <th>333</th>\n",
       "      <td>TheWayIAm</td>\n",
       "      <td>3</td>\n",
       "      <td>0.416388</td>\n",
       "      <td>0.376356</td>\n",
       "      <td>0.247847</td>\n",
       "    </tr>\n",
       "    <tr>\n",
       "      <th>334</th>\n",
       "      <td>TheWayIAm</td>\n",
       "      <td>4</td>\n",
       "      <td>0.405014</td>\n",
       "      <td>0.261083</td>\n",
       "      <td>0.280264</td>\n",
       "    </tr>\n",
       "    <tr>\n",
       "      <th>335</th>\n",
       "      <td>TheWayIAm</td>\n",
       "      <td>5</td>\n",
       "      <td>0.414268</td>\n",
       "      <td>0.317871</td>\n",
       "      <td>0.261760</td>\n",
       "    </tr>\n",
       "    <tr>\n",
       "      <th>336</th>\n",
       "      <td>TheWayIAm</td>\n",
       "      <td>6</td>\n",
       "      <td>0.399943</td>\n",
       "      <td>0.376323</td>\n",
       "      <td>0.226556</td>\n",
       "    </tr>\n",
       "    <tr>\n",
       "      <th>337</th>\n",
       "      <td>TheWayIAm</td>\n",
       "      <td>7</td>\n",
       "      <td>0.411467</td>\n",
       "      <td>0.251496</td>\n",
       "      <td>0.307887</td>\n",
       "    </tr>\n",
       "    <tr>\n",
       "      <th>338</th>\n",
       "      <td>TheWayIAm</td>\n",
       "      <td>8</td>\n",
       "      <td>0.416573</td>\n",
       "      <td>0.359477</td>\n",
       "      <td>0.255780</td>\n",
       "    </tr>\n",
       "    <tr>\n",
       "      <th>444</th>\n",
       "      <td>SteveBerman</td>\n",
       "      <td>0</td>\n",
       "      <td>0.737100</td>\n",
       "      <td>0.742471</td>\n",
       "      <td>0.131359</td>\n",
       "    </tr>\n",
       "    <tr>\n",
       "      <th>762</th>\n",
       "      <td>SteveBerman</td>\n",
       "      <td>0</td>\n",
       "      <td>0.327945</td>\n",
       "      <td>0.265450</td>\n",
       "      <td>0.201653</td>\n",
       "    </tr>\n",
       "    <tr>\n",
       "      <th>1146</th>\n",
       "      <td>WalkinOnDownTheRoad</td>\n",
       "      <td>0</td>\n",
       "      <td>0.404439</td>\n",
       "      <td>0.399952</td>\n",
       "      <td>0.134414</td>\n",
       "    </tr>\n",
       "    <tr>\n",
       "      <th>1147</th>\n",
       "      <td>WalkinOnDownTheRoad</td>\n",
       "      <td>0</td>\n",
       "      <td>0.404439</td>\n",
       "      <td>0.399952</td>\n",
       "      <td>0.134414</td>\n",
       "    </tr>\n",
       "    <tr>\n",
       "      <th>1148</th>\n",
       "      <td>WalkinOnDownTheRoad</td>\n",
       "      <td>1</td>\n",
       "      <td>0.373698</td>\n",
       "      <td>0.368714</td>\n",
       "      <td>0.151211</td>\n",
       "    </tr>\n",
       "    <tr>\n",
       "      <th>1149</th>\n",
       "      <td>WalkinOnDownTheRoad</td>\n",
       "      <td>2</td>\n",
       "      <td>0.386125</td>\n",
       "      <td>0.373921</td>\n",
       "      <td>0.106497</td>\n",
       "    </tr>\n",
       "    <tr>\n",
       "      <th>1150</th>\n",
       "      <td>WalkinOnDownTheRoad</td>\n",
       "      <td>3</td>\n",
       "      <td>0.362291</td>\n",
       "      <td>0.344089</td>\n",
       "      <td>0.174891</td>\n",
       "    </tr>\n",
       "    <tr>\n",
       "      <th>1151</th>\n",
       "      <td>WalkinOnDownTheRoad</td>\n",
       "      <td>4</td>\n",
       "      <td>0.380033</td>\n",
       "      <td>0.347661</td>\n",
       "      <td>0.173229</td>\n",
       "    </tr>\n",
       "    <tr>\n",
       "      <th>1152</th>\n",
       "      <td>WalkinOnDownTheRoad</td>\n",
       "      <td>5</td>\n",
       "      <td>0.368834</td>\n",
       "      <td>0.393201</td>\n",
       "      <td>0.141374</td>\n",
       "    </tr>\n",
       "    <tr>\n",
       "      <th>1153</th>\n",
       "      <td>WalkinOnDownTheRoad</td>\n",
       "      <td>6</td>\n",
       "      <td>0.402649</td>\n",
       "      <td>0.379978</td>\n",
       "      <td>0.103993</td>\n",
       "    </tr>\n",
       "  </tbody>\n",
       "</table>\n",
       "</div>"
      ],
      "text/plain": [
       "                     song  seg  pitch_0_mean  pitch_0_median  pitch_0_std\n",
       "242            RememberMe    0      0.298921        0.298856     0.137504\n",
       "243            RememberMe    1      0.285447        0.292834     0.126076\n",
       "244            RememberMe    2      0.293660        0.247067     0.140996\n",
       "269             KenKaniff    0      0.343874        0.258309     0.264737\n",
       "270             KenKaniff    1      0.535997        0.547917     0.255880\n",
       "330             TheWayIAm    0      0.319524        0.250079     0.217544\n",
       "331             TheWayIAm    1      0.369592        0.296501     0.215209\n",
       "332             TheWayIAm    2      0.449232        0.325292     0.288762\n",
       "333             TheWayIAm    3      0.416388        0.376356     0.247847\n",
       "334             TheWayIAm    4      0.405014        0.261083     0.280264\n",
       "335             TheWayIAm    5      0.414268        0.317871     0.261760\n",
       "336             TheWayIAm    6      0.399943        0.376323     0.226556\n",
       "337             TheWayIAm    7      0.411467        0.251496     0.307887\n",
       "338             TheWayIAm    8      0.416573        0.359477     0.255780\n",
       "444           SteveBerman    0      0.737100        0.742471     0.131359\n",
       "762           SteveBerman    0      0.327945        0.265450     0.201653\n",
       "1146  WalkinOnDownTheRoad    0      0.404439        0.399952     0.134414\n",
       "1147  WalkinOnDownTheRoad    0      0.404439        0.399952     0.134414\n",
       "1148  WalkinOnDownTheRoad    1      0.373698        0.368714     0.151211\n",
       "1149  WalkinOnDownTheRoad    2      0.386125        0.373921     0.106497\n",
       "1150  WalkinOnDownTheRoad    3      0.362291        0.344089     0.174891\n",
       "1151  WalkinOnDownTheRoad    4      0.380033        0.347661     0.173229\n",
       "1152  WalkinOnDownTheRoad    5      0.368834        0.393201     0.141374\n",
       "1153  WalkinOnDownTheRoad    6      0.402649        0.379978     0.103993"
      ]
     },
     "execution_count": 74,
     "metadata": {},
     "output_type": "execute_result"
    }
   ],
   "source": [
    "df_test[df_test.duplicated(subset=['song', 'seg'])]  \n",
    "# odd that some aggregations of the same feature got different results. \n",
    "# Probably happened when I stopped executions"
   ]
  },
  {
   "cell_type": "code",
   "execution_count": 91,
   "metadata": {},
   "outputs": [
    {
     "data": {
      "text/plain": [
       "(2121, 3)"
      ]
     },
     "execution_count": 91,
     "metadata": {},
     "output_type": "execute_result"
    }
   ],
   "source": [
    "df_test.drop_duplicates(subset=['song', 'seg']).shape"
   ]
  },
  {
   "cell_type": "code",
   "execution_count": 92,
   "metadata": {},
   "outputs": [
    {
     "data": {
      "text/plain": [
       "(2099, 3)"
      ]
     },
     "execution_count": 92,
     "metadata": {},
     "output_type": "execute_result"
    }
   ],
   "source": [
    "df_test.drop_duplicates(subset=['song', 'seg'], keep=False).shape"
   ]
  },
  {
   "cell_type": "code",
   "execution_count": 87,
   "metadata": {},
   "outputs": [
    {
     "data": {
      "text/plain": [
       "0.9896275341819897"
      ]
     },
     "execution_count": 87,
     "metadata": {},
     "output_type": "execute_result"
    }
   ],
   "source": [
    "2099 / 2121"
   ]
  },
  {
   "cell_type": "code",
   "execution_count": 93,
   "metadata": {},
   "outputs": [
    {
     "data": {
      "text/plain": [
       "(2121, 42)"
      ]
     },
     "execution_count": 93,
     "metadata": {},
     "output_type": "execute_result"
    }
   ],
   "source": [
    "df_no_dupes.shape"
   ]
  },
  {
   "cell_type": "code",
   "execution_count": 94,
   "metadata": {},
   "outputs": [
    {
     "data": {
      "text/plain": [
       "22"
      ]
     },
     "execution_count": 94,
     "metadata": {},
     "output_type": "execute_result"
    }
   ],
   "source": [
    "2121 - 2099  # only 22 entries that could possibly have inconsitent values"
   ]
  },
  {
   "cell_type": "code",
   "execution_count": 132,
   "metadata": {},
   "outputs": [],
   "source": [
    "cwd = Path.cwd()\n",
    "tracks_dir = cwd / 'tracks'\n",
    "data_dir = cwd / 'data'\n",
    "pkl_path = data_dir / 'audio_df.pkl'\n",
    "\n",
    "tracks = list(tracks_dir.iterdir())"
   ]
  },
  {
   "cell_type": "code",
   "execution_count": 118,
   "metadata": {},
   "outputs": [],
   "source": [
    "eminem = 'Eminem'\n",
    "rhcp = 'RedHotChiliPeppers'"
   ]
  },
  {
   "cell_type": "code",
   "execution_count": 122,
   "metadata": {},
   "outputs": [],
   "source": [
    "df_no_dupes = df_no_dupes.reset_index(drop=True)"
   ]
  },
  {
   "cell_type": "code",
   "execution_count": 126,
   "metadata": {},
   "outputs": [],
   "source": [
    "def find_artist(song):\n",
    "    for track in tracks:\n",
    "        name = track.name.title().translate(punct_table)\n",
    "        if song in name:\n",
    "            if eminem in name:\n",
    "                return eminem\n",
    "            elif rhcp in name:\n",
    "                return rhcp\n",
    "            else:\n",
    "                return np.nan"
   ]
  },
  {
   "cell_type": "code",
   "execution_count": 128,
   "metadata": {},
   "outputs": [],
   "source": [
    "df_no_dupes['artist'] = df_no_dupes.song.map(find_artist)"
   ]
  },
  {
   "cell_type": "code",
   "execution_count": 130,
   "metadata": {},
   "outputs": [
    {
     "data": {
      "text/html": [
       "<div>\n",
       "<style scoped>\n",
       "    .dataframe tbody tr th:only-of-type {\n",
       "        vertical-align: middle;\n",
       "    }\n",
       "\n",
       "    .dataframe tbody tr th {\n",
       "        vertical-align: top;\n",
       "    }\n",
       "\n",
       "    .dataframe thead th {\n",
       "        text-align: right;\n",
       "    }\n",
       "</style>\n",
       "<table border=\"1\" class=\"dataframe\">\n",
       "  <thead>\n",
       "    <tr style=\"text-align: right;\">\n",
       "      <th></th>\n",
       "      <th>tempo</th>\n",
       "      <th>song</th>\n",
       "      <th>seg</th>\n",
       "      <th>dynamic_tempo_mean</th>\n",
       "      <th>dynamic_tempo_median</th>\n",
       "      <th>dynamic_tempo_std</th>\n",
       "      <th>pitch_0_mean</th>\n",
       "      <th>pitch_0_median</th>\n",
       "      <th>pitch_0_std</th>\n",
       "      <th>pitch_1_mean</th>\n",
       "      <th>...</th>\n",
       "      <th>pitch_9_mean</th>\n",
       "      <th>pitch_9_median</th>\n",
       "      <th>pitch_9_std</th>\n",
       "      <th>pitch_10_mean</th>\n",
       "      <th>pitch_10_median</th>\n",
       "      <th>pitch_10_std</th>\n",
       "      <th>pitch_11_mean</th>\n",
       "      <th>pitch_11_median</th>\n",
       "      <th>pitch_11_std</th>\n",
       "      <th>artist</th>\n",
       "    </tr>\n",
       "  </thead>\n",
       "  <tbody>\n",
       "    <tr>\n",
       "      <th>0</th>\n",
       "      <td>161.499023</td>\n",
       "      <td>Infinite</td>\n",
       "      <td>0</td>\n",
       "      <td>131.606177</td>\n",
       "      <td>117.453835</td>\n",
       "      <td>21.591310</td>\n",
       "      <td>0.478847</td>\n",
       "      <td>0.436120</td>\n",
       "      <td>0.378404</td>\n",
       "      <td>0.396772</td>\n",
       "      <td>...</td>\n",
       "      <td>0.158108</td>\n",
       "      <td>0.102223</td>\n",
       "      <td>0.137175</td>\n",
       "      <td>0.323886</td>\n",
       "      <td>0.108240</td>\n",
       "      <td>0.345245</td>\n",
       "      <td>0.237460</td>\n",
       "      <td>0.176930</td>\n",
       "      <td>0.171720</td>\n",
       "      <td>Eminem</td>\n",
       "    </tr>\n",
       "    <tr>\n",
       "      <th>1</th>\n",
       "      <td>161.499023</td>\n",
       "      <td>Infinite</td>\n",
       "      <td>1</td>\n",
       "      <td>156.357925</td>\n",
       "      <td>161.499023</td>\n",
       "      <td>19.373141</td>\n",
       "      <td>0.535089</td>\n",
       "      <td>0.550514</td>\n",
       "      <td>0.360815</td>\n",
       "      <td>0.460853</td>\n",
       "      <td>...</td>\n",
       "      <td>0.219131</td>\n",
       "      <td>0.150535</td>\n",
       "      <td>0.189497</td>\n",
       "      <td>0.368779</td>\n",
       "      <td>0.223701</td>\n",
       "      <td>0.338631</td>\n",
       "      <td>0.272720</td>\n",
       "      <td>0.188502</td>\n",
       "      <td>0.176208</td>\n",
       "      <td>Eminem</td>\n",
       "    </tr>\n",
       "    <tr>\n",
       "      <th>2</th>\n",
       "      <td>161.499023</td>\n",
       "      <td>Infinite</td>\n",
       "      <td>2</td>\n",
       "      <td>161.499023</td>\n",
       "      <td>161.499023</td>\n",
       "      <td>0.000000</td>\n",
       "      <td>0.532976</td>\n",
       "      <td>0.535744</td>\n",
       "      <td>0.353502</td>\n",
       "      <td>0.458424</td>\n",
       "      <td>...</td>\n",
       "      <td>0.233574</td>\n",
       "      <td>0.166762</td>\n",
       "      <td>0.190307</td>\n",
       "      <td>0.395313</td>\n",
       "      <td>0.242320</td>\n",
       "      <td>0.332752</td>\n",
       "      <td>0.293611</td>\n",
       "      <td>0.232436</td>\n",
       "      <td>0.176653</td>\n",
       "      <td>Eminem</td>\n",
       "    </tr>\n",
       "    <tr>\n",
       "      <th>3</th>\n",
       "      <td>161.499023</td>\n",
       "      <td>Infinite</td>\n",
       "      <td>3</td>\n",
       "      <td>161.499023</td>\n",
       "      <td>161.499023</td>\n",
       "      <td>0.000000</td>\n",
       "      <td>0.560920</td>\n",
       "      <td>0.588350</td>\n",
       "      <td>0.356478</td>\n",
       "      <td>0.466850</td>\n",
       "      <td>...</td>\n",
       "      <td>0.227487</td>\n",
       "      <td>0.155340</td>\n",
       "      <td>0.200086</td>\n",
       "      <td>0.386434</td>\n",
       "      <td>0.262794</td>\n",
       "      <td>0.347692</td>\n",
       "      <td>0.293144</td>\n",
       "      <td>0.206469</td>\n",
       "      <td>0.197045</td>\n",
       "      <td>Eminem</td>\n",
       "    </tr>\n",
       "    <tr>\n",
       "      <th>4</th>\n",
       "      <td>161.499023</td>\n",
       "      <td>Infinite</td>\n",
       "      <td>4</td>\n",
       "      <td>151.700483</td>\n",
       "      <td>161.499023</td>\n",
       "      <td>24.860557</td>\n",
       "      <td>0.553595</td>\n",
       "      <td>0.556621</td>\n",
       "      <td>0.359414</td>\n",
       "      <td>0.455063</td>\n",
       "      <td>...</td>\n",
       "      <td>0.274195</td>\n",
       "      <td>0.234160</td>\n",
       "      <td>0.215002</td>\n",
       "      <td>0.440270</td>\n",
       "      <td>0.356976</td>\n",
       "      <td>0.337480</td>\n",
       "      <td>0.306196</td>\n",
       "      <td>0.239138</td>\n",
       "      <td>0.183412</td>\n",
       "      <td>Eminem</td>\n",
       "    </tr>\n",
       "  </tbody>\n",
       "</table>\n",
       "<p>5 rows × 43 columns</p>\n",
       "</div>"
      ],
      "text/plain": [
       "        tempo      song  seg  dynamic_tempo_mean  dynamic_tempo_median  \\\n",
       "0  161.499023  Infinite    0          131.606177            117.453835   \n",
       "1  161.499023  Infinite    1          156.357925            161.499023   \n",
       "2  161.499023  Infinite    2          161.499023            161.499023   \n",
       "3  161.499023  Infinite    3          161.499023            161.499023   \n",
       "4  161.499023  Infinite    4          151.700483            161.499023   \n",
       "\n",
       "   dynamic_tempo_std  pitch_0_mean  pitch_0_median  pitch_0_std  pitch_1_mean  \\\n",
       "0          21.591310      0.478847        0.436120     0.378404      0.396772   \n",
       "1          19.373141      0.535089        0.550514     0.360815      0.460853   \n",
       "2           0.000000      0.532976        0.535744     0.353502      0.458424   \n",
       "3           0.000000      0.560920        0.588350     0.356478      0.466850   \n",
       "4          24.860557      0.553595        0.556621     0.359414      0.455063   \n",
       "\n",
       "   ...  pitch_9_mean  pitch_9_median  pitch_9_std  pitch_10_mean  \\\n",
       "0  ...      0.158108        0.102223     0.137175       0.323886   \n",
       "1  ...      0.219131        0.150535     0.189497       0.368779   \n",
       "2  ...      0.233574        0.166762     0.190307       0.395313   \n",
       "3  ...      0.227487        0.155340     0.200086       0.386434   \n",
       "4  ...      0.274195        0.234160     0.215002       0.440270   \n",
       "\n",
       "   pitch_10_median  pitch_10_std  pitch_11_mean  pitch_11_median  \\\n",
       "0         0.108240      0.345245       0.237460         0.176930   \n",
       "1         0.223701      0.338631       0.272720         0.188502   \n",
       "2         0.242320      0.332752       0.293611         0.232436   \n",
       "3         0.262794      0.347692       0.293144         0.206469   \n",
       "4         0.356976      0.337480       0.306196         0.239138   \n",
       "\n",
       "   pitch_11_std  artist  \n",
       "0      0.171720  Eminem  \n",
       "1      0.176208  Eminem  \n",
       "2      0.176653  Eminem  \n",
       "3      0.197045  Eminem  \n",
       "4      0.183412  Eminem  \n",
       "\n",
       "[5 rows x 43 columns]"
      ]
     },
     "execution_count": 130,
     "metadata": {},
     "output_type": "execute_result"
    }
   ],
   "source": [
    "df_no_dupes.head()"
   ]
  },
  {
   "cell_type": "code",
   "execution_count": 133,
   "metadata": {},
   "outputs": [],
   "source": [
    "df_no_dupes.to_pickle(pkl_path)"
   ]
  },
  {
   "cell_type": "code",
   "execution_count": null,
   "metadata": {},
   "outputs": [],
   "source": []
  },
  {
   "cell_type": "code",
   "execution_count": null,
   "metadata": {},
   "outputs": [],
   "source": []
  }
 ],
 "metadata": {
  "kernelspec": {
   "display_name": "Python 3",
   "language": "python",
   "name": "python3"
  },
  "language_info": {
   "codemirror_mode": {
    "name": "ipython",
    "version": 3
   },
   "file_extension": ".py",
   "mimetype": "text/x-python",
   "name": "python",
   "nbconvert_exporter": "python",
   "pygments_lexer": "ipython3",
   "version": "3.7.2"
  }
 },
 "nbformat": 4,
 "nbformat_minor": 2
}
