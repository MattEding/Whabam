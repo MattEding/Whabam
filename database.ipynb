{
 "cells": [
  {
   "cell_type": "code",
   "execution_count": 1,
   "metadata": {},
   "outputs": [],
   "source": [
    "from pathlib import Path\n",
    "\n",
    "import numpy as np\n",
    "import psycopg2 as pg\n",
    "import pandas as pd\n",
    "import pandas.io.sql as pd_sql\n",
    "\n",
    "import extract_features"
   ]
  },
  {
   "cell_type": "code",
   "execution_count": 29,
   "metadata": {},
   "outputs": [],
   "source": [
    "connection_args = {\n",
    "    'host': 'localhost',\n",
    "    'dbname': 'audio',\n",
    "    'port': 5432\n",
    "}\n",
    "\n",
    "connection = pg.connect(**connection_args)"
   ]
  },
  {
   "cell_type": "code",
   "execution_count": 34,
   "metadata": {},
   "outputs": [
    {
     "data": {
      "text/plain": [
       "1"
      ]
     },
     "execution_count": 34,
     "metadata": {},
     "output_type": "execute_result"
    }
   ],
   "source": [
    "cursor.cl"
   ]
  },
  {
   "cell_type": "code",
   "execution_count": 30,
   "metadata": {},
   "outputs": [],
   "source": [
    "cursor = connection.cursor()"
   ]
  },
  {
   "cell_type": "code",
   "execution_count": 2,
   "metadata": {},
   "outputs": [],
   "source": [
    "cwd = Path.cwd()\n",
    "seg_npz = cwd / 'data' / 'seg_npz'\n",
    "segments = sorted(seg for seg in seg_npz.iterdir() if seg.suffix == '.npz')"
   ]
  },
  {
   "cell_type": "code",
   "execution_count": 3,
   "metadata": {},
   "outputs": [],
   "source": [
    "seg0 = np.load(segments[0])\n",
    "seg1 = np.load(segments[1])"
   ]
  },
  {
   "cell_type": "code",
   "execution_count": 4,
   "metadata": {},
   "outputs": [
    {
     "name": "stderr",
     "output_type": "stream",
     "text": [
      "/Users/matteding/miniconda3/envs/audio/lib/python3.7/site-packages/numpy/core/fromnumeric.py:83: RuntimeWarning: overflow encountered in reduce\n",
      "  return ufunc.reduce(obj, axis, dtype, out, **passkwargs)\n"
     ]
    }
   ],
   "source": [
    "# last elem is the track title\n",
    "segs, name = seg0.values()\n",
    "for idx, seg in enumerate(segs[:1], start=...):\n",
    "    feats = extract_features.extract_all(seg)"
   ]
  },
  {
   "cell_type": "code",
   "execution_count": 60,
   "metadata": {},
   "outputs": [],
   "source": [
    "idx = 0"
   ]
  },
  {
   "cell_type": "code",
   "execution_count": null,
   "metadata": {},
   "outputs": [],
   "source": [
    "name = np.asscalar(name)"
   ]
  },
  {
   "cell_type": "code",
   "execution_count": 67,
   "metadata": {},
   "outputs": [
    {
     "data": {
      "text/plain": [
       "'Infinite'"
      ]
     },
     "execution_count": 67,
     "metadata": {},
     "output_type": "execute_result"
    }
   ],
   "source": [
    "name"
   ]
  },
  {
   "cell_type": "code",
   "execution_count": 31,
   "metadata": {},
   "outputs": [
    {
     "data": {
      "text/plain": [
       "array([161.49902344])"
      ]
     },
     "execution_count": 31,
     "metadata": {},
     "output_type": "execute_result"
    }
   ],
   "source": [
    "tempo"
   ]
  },
  {
   "cell_type": "code",
   "execution_count": 70,
   "metadata": {},
   "outputs": [
    {
     "name": "stdout",
     "output_type": "stream",
     "text": [
      "INSERT INTO tempo (song, segment, val) VALUES ('Infinite', 0, 161.4990234375);\n"
     ]
    }
   ],
   "source": [
    "featscopy = feats.copy()\n",
    "tempo = featscopy.pop('tempo')\n",
    "tempo = np.asscalar(tempo)\n",
    "query_tempo = f\"INSERT INTO tempo (song, segment, val) VALUES ('{name}', {idx}, {tempo});\"\n",
    "cursor.execute(query_tempo)"
   ]
  },
  {
   "cell_type": "code",
   "execution_count": 83,
   "metadata": {},
   "outputs": [],
   "source": [
    "cursor.execute('COMMIT;')"
   ]
  },
  {
   "cell_type": "code",
   "execution_count": 84,
   "metadata": {},
   "outputs": [],
   "source": [
    "cursor.execute('BEGIN;')"
   ]
  },
  {
   "cell_type": "code",
   "execution_count": 81,
   "metadata": {},
   "outputs": [],
   "source": [
    "cursor.execute(\"ROLLBACK;\")"
   ]
  },
  {
   "cell_type": "code",
   "execution_count": 80,
   "metadata": {},
   "outputs": [],
   "source": [
    "def map_float_sql(x):\n",
    "    \"\"\"Coerce python NaN and +/-Inf values to SQL values\"\"\"\n",
    "    \n",
    "    if np.isnan(x):\n",
    "        return \"'NaN'\"\n",
    "    if np.isposinf(x):\n",
    "        return \"'+infinity'\"\n",
    "    if np.isneginf(x):\n",
    "        return \"'-infinity'\"\n",
    "    return x"
   ]
  },
  {
   "cell_type": "code",
   "execution_count": 82,
   "metadata": {},
   "outputs": [],
   "source": [
    "for feat, aggs in list(featscopy.items()):\n",
    "    dct = aggs._asdict()\n",
    "    agg_keys = ', '.join(dct.keys())    \n",
    "    agg_vals = ', '.join(f'{map_float_sql(v)}' for v in dct.values())\n",
    "\n",
    "    query = f\"INSERT INTO {feat} (song, segment, {agg_keys}) VALUES ('{name}', {idx}, {agg_vals});\"\n",
    "    cursor.execute(query)"
   ]
  },
  {
   "cell_type": "code",
   "execution_count": 23,
   "metadata": {},
   "outputs": [
    {
     "data": {
      "text/plain": [
       "27"
      ]
     },
     "execution_count": 23,
     "metadata": {},
     "output_type": "execute_result"
    }
   ],
   "source": [
    "keys = list(featscopy.keys())\n",
    "len(keys)"
   ]
  },
  {
   "cell_type": "code",
   "execution_count": 24,
   "metadata": {
    "scrolled": false
   },
   "outputs": [
    {
     "data": {
      "text/plain": [
       "['rmse',\n",
       " 'spectral_bandwidth',\n",
       " 'spectral_centroid',\n",
       " 'spectral_flatness',\n",
       " 'spectral_rolloff',\n",
       " 'zero_crossing_rate',\n",
       " 'x_perf5',\n",
       " 'y_perf5',\n",
       " 'x_min3',\n",
       " 'y_min3',\n",
       " 'x_maj3',\n",
       " 'y_maj3',\n",
       " 'bound_width',\n",
       " 'pitch_0',\n",
       " 'pitch_1',\n",
       " 'pitch_2',\n",
       " 'pitch_3',\n",
       " 'pitch_4',\n",
       " 'pitch_5',\n",
       " 'pitch_6',\n",
       " 'pitch_7',\n",
       " 'pitch_8',\n",
       " 'pitch_9',\n",
       " 'pitch_10',\n",
       " 'pitch_11',\n",
       " 'tempogram',\n",
       " 'dynamic_tempo']"
      ]
     },
     "execution_count": 24,
     "metadata": {},
     "output_type": "execute_result"
    }
   ],
   "source": [
    "keys"
   ]
  },
  {
   "cell_type": "code",
   "execution_count": null,
   "metadata": {},
   "outputs": [],
   "source": []
  },
  {
   "cell_type": "code",
   "execution_count": null,
   "metadata": {},
   "outputs": [],
   "source": []
  },
  {
   "cell_type": "code",
   "execution_count": null,
   "metadata": {},
   "outputs": [],
   "source": []
  },
  {
   "cell_type": "code",
   "execution_count": null,
   "metadata": {},
   "outputs": [],
   "source": []
  },
  {
   "cell_type": "code",
   "execution_count": 7,
   "metadata": {},
   "outputs": [],
   "source": [
    "cursor.description"
   ]
  },
  {
   "cell_type": "code",
   "execution_count": null,
   "metadata": {},
   "outputs": [],
   "source": []
  }
 ],
 "metadata": {
  "kernelspec": {
   "display_name": "Python 3",
   "language": "python",
   "name": "python3"
  },
  "language_info": {
   "codemirror_mode": {
    "name": "ipython",
    "version": 3
   },
   "file_extension": ".py",
   "mimetype": "text/x-python",
   "name": "python",
   "nbconvert_exporter": "python",
   "pygments_lexer": "ipython3",
   "version": "3.7.2"
  }
 },
 "nbformat": 4,
 "nbformat_minor": 2
}
