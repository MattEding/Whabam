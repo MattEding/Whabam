{
 "cells": [
  {
   "cell_type": "code",
   "execution_count": 1,
   "metadata": {},
   "outputs": [
    {
     "data": {
      "text/html": [
       "<style>.container { width:100% !important; }</style>"
      ],
      "text/plain": [
       "<IPython.core.display.HTML object>"
      ]
     },
     "metadata": {},
     "output_type": "display_data"
    }
   ],
   "source": [
    "import librosa as lr\n",
    "import librosa.display\n",
    "import numpy as np\n",
    "\n",
    "import extract_features\n",
    "import utilty\n",
    "\n",
    "ipd.display(ipd.HTML(\"<style>.container { width:100% !important; }</style>\"))"
   ]
  },
  {
   "cell_type": "code",
   "execution_count": 2,
   "metadata": {},
   "outputs": [
    {
     "data": {
      "text/plain": [
       "PosixPath('/Users/matteding/Desktop/Whabam/tracks/eminem-2002-the_eminem_show-10-without_me.mp3')"
      ]
     },
     "execution_count": 2,
     "metadata": {},
     "output_type": "execute_result"
    }
   ],
   "source": [
    "# %%timeit\n",
    "track = utilty.get_audio_tracks()[0]\n",
    "track = utilty.find_file('without')\n",
    "\n",
    "sec = 30\n",
    "duration = utilty.get_duration(track)\n",
    "segments = int(duration) // sec\n",
    "audio_30secs = [lr.load(track, offset=sec*i, duration=sec) for i in range(segments)]\n",
    "name = track.stem.split('-')[-1].replace('_', ' ').title()\n",
    "track"
   ]
  },
  {
   "cell_type": "code",
   "execution_count": 3,
   "metadata": {},
   "outputs": [],
   "source": [
    "# all features with shape (1, t)\n",
    "feature_funcs = [lr.feature.rmse, lr.feature.spectral_bandwidth, lr.feature.spectral_centroid, \n",
    "                 lr.feature.spectral_flatness, lr.feature.spectral_rolloff, lr.feature.zero_crossing_rate]\n",
    "aggs = []\n",
    "for audio, _ in audio_30secs:\n",
    "    segment = dict()\n",
    "    for func in feature_funcs:\n",
    "        result = func(audio)\n",
    "        agg = utilty.get_aggregations(result)\n",
    "        segment[func.__name__] = agg\n",
    "    aggs.append(segment)"
   ]
  },
  {
   "cell_type": "code",
   "execution_count": 16,
   "metadata": {},
   "outputs": [
    {
     "data": {
      "text/plain": [
       "Aggregations(mean=0.021195393, median=0.0025111442, mode=4.933534e-07, amax=0.1937035, amin=4.933534e-07, std=0.039248634, sum=27.384447)"
      ]
     },
     "execution_count": 16,
     "metadata": {},
     "output_type": "execute_result"
    }
   ],
   "source": [
    "aggs[-1]['spectral_flatness']"
   ]
  },
  {
   "cell_type": "code",
   "execution_count": 17,
   "metadata": {},
   "outputs": [
    {
     "data": {
      "text/plain": [
       "Aggregations(mean=0.021195393, median=0.0025111442, mode=4.933534e-07, amax=0.1937035, amin=4.933534e-07, std=0.039248634, sum=27.384447)"
      ]
     },
     "execution_count": 17,
     "metadata": {},
     "output_type": "execute_result"
    }
   ],
   "source": [
    "extract_features.misc_feature_aggs(audio)['spectral_flatness']"
   ]
  },
  {
   "cell_type": "code",
   "execution_count": 5,
   "metadata": {},
   "outputs": [],
   "source": [
    "tonnetzes = [lr.feature.tonnetz(audio) for audio, _ in audio_30secs]\n",
    "tonnetz_aggs = [utilty.get_aggregations(tonnetz, axis=1) for tonnetz in tonnetzes]"
   ]
  },
  {
   "cell_type": "code",
   "execution_count": 6,
   "metadata": {},
   "outputs": [
    {
     "data": {
      "text/plain": [
       "(6,)"
      ]
     },
     "execution_count": 6,
     "metadata": {},
     "output_type": "execute_result"
    }
   ],
   "source": [
    "tonnetz_aggs[0].mean.shape # 6 for perfect 5ths, major 3rds, minor 3rds with x and y"
   ]
  },
  {
   "cell_type": "code",
   "execution_count": 19,
   "metadata": {},
   "outputs": [],
   "source": [
    "tnz = tonnetz_aggs[-1]"
   ]
  },
  {
   "cell_type": "code",
   "execution_count": 20,
   "metadata": {},
   "outputs": [
    {
     "data": {
      "text/plain": [
       "Aggregations(mean=array([ 0.01428755,  0.01690418,  0.14570838, -0.0501279 ,  0.02151135,\n",
       "       -0.01199497]), median=array([ 0.0138555 ,  0.01652153,  0.14819762, -0.02714751,  0.02441909,\n",
       "       -0.01689105]), mode=array([-0.09310386, -0.05089711, -0.17309714, -0.40716162, -0.08455134,\n",
       "       -0.08348381]), amax=array([0.13017412, 0.10159274, 0.4034588 , 0.09436358, 0.10272051,\n",
       "       0.09731782]), amin=array([-0.09310386, -0.05089711, -0.17309714, -0.40716162, -0.08455134,\n",
       "       -0.08348381]), std=array([0.02753574, 0.02159649, 0.12742599, 0.09356664, 0.04020301,\n",
       "       0.02847409]), sum=array([ 18.45950844,  21.84019646, 188.25522894, -64.7652491 ,\n",
       "        27.79266788, -15.49750483]))"
      ]
     },
     "execution_count": 20,
     "metadata": {},
     "output_type": "execute_result"
    }
   ],
   "source": [
    "tnz"
   ]
  },
  {
   "cell_type": "code",
   "execution_count": 18,
   "metadata": {},
   "outputs": [
    {
     "data": {
      "text/plain": [
       "Aggregations(mean=0.014287545230310792, median=0.013855497420920328, mode=-0.09310386465856413, amax=0.1301741226093064, amin=-0.09310386465856413, std=0.027535742981675205, sum=18.459508437561542)"
      ]
     },
     "execution_count": 18,
     "metadata": {},
     "output_type": "execute_result"
    }
   ],
   "source": [
    "extract_features.tonnetz_aggs(audio)['x_P5']"
   ]
  },
  {
   "cell_type": "code",
   "execution_count": null,
   "metadata": {},
   "outputs": [],
   "source": []
  },
  {
   "cell_type": "code",
   "execution_count": null,
   "metadata": {},
   "outputs": [],
   "source": []
  },
  {
   "cell_type": "code",
   "execution_count": null,
   "metadata": {},
   "outputs": [],
   "source": []
  },
  {
   "cell_type": "code",
   "execution_count": 14,
   "metadata": {},
   "outputs": [],
   "source": [
    "from importlib import reload\n",
    "reload(utilty)\n",
    "reload(extract_features);"
   ]
  }
 ],
 "metadata": {
  "kernelspec": {
   "display_name": "Python 3",
   "language": "python",
   "name": "python3"
  },
  "language_info": {
   "codemirror_mode": {
    "name": "ipython",
    "version": 3
   },
   "file_extension": ".py",
   "mimetype": "text/x-python",
   "name": "python",
   "nbconvert_exporter": "python",
   "pygments_lexer": "ipython3",
   "version": "3.7.2"
  }
 },
 "nbformat": 4,
 "nbformat_minor": 2
}
