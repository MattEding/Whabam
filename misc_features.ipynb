{
 "cells": [
  {
   "cell_type": "code",
   "execution_count": 2,
   "metadata": {},
   "outputs": [
    {
     "data": {
      "text/html": [
       "<style>.container { width:100% !important; }</style>"
      ],
      "text/plain": [
       "<IPython.core.display.HTML object>"
      ]
     },
     "metadata": {},
     "output_type": "display_data"
    }
   ],
   "source": [
    "import IPython.display as ipd\n",
    "import librosa as lr\n",
    "import librosa.display\n",
    "import matplotlib.pyplot as plt\n",
    "import numpy as np\n",
    "\n",
    "import utilty\n",
    "\n",
    "# %config InlineBackend.figure_format = 'svg'\n",
    "plt.rcParams['figure.figsize'] = (8, 3)\n",
    "ipd.display(ipd.HTML(\"<style>.container { width:100% !important; }</style>\"))"
   ]
  },
  {
   "cell_type": "code",
   "execution_count": 3,
   "metadata": {},
   "outputs": [
    {
     "data": {
      "text/plain": [
       "PosixPath('/Users/matteding/Desktop/Whabam/tracks/eminem-2002-the_eminem_show-10-without_me.mp3')"
      ]
     },
     "execution_count": 3,
     "metadata": {},
     "output_type": "execute_result"
    }
   ],
   "source": [
    "track = utilty.get_audio_tracks()[0]\n",
    "track = utilty.find_file('without')\n",
    "\n",
    "sec = 30\n",
    "duration = utilty.get_duration(track)\n",
    "segments = int(duration) // sec\n",
    "audio_30secs = [lr.load(track, offset=sec*i, duration=sec) for i in range(segments)]\n",
    "name = track.stem.split('-')[-1].replace('_', ' ').title()\n",
    "track"
   ]
  },
  {
   "cell_type": "code",
   "execution_count": 4,
   "metadata": {},
   "outputs": [],
   "source": [
    "# all features with shape (1, t)\n",
    "feature_funcs = [lr.feature.rmse, lr.feature.spectral_bandwidth, lr.feature.spectral_centroid, \n",
    "                 lr.feature.spectral_flatness, lr.feature.spectral_rolloff, lr.feature.zero_crossing_rate]\n",
    "aggs = []\n",
    "for audio, _ in audio_30secs:\n",
    "    segment = dict()\n",
    "    for func in feature_funcs:\n",
    "        result = func(audio)\n",
    "        agg = utilty.get_aggregations(result)\n",
    "        segment[func.__name__] = agg\n",
    "    aggs.append(segment)"
   ]
  },
  {
   "cell_type": "code",
   "execution_count": 5,
   "metadata": {},
   "outputs": [
    {
     "data": {
      "text/plain": [
       "Aggregations(mean=0.022005646, median=0.0037256456, mode=ModeResult(mode=array([9.538462e-08], dtype=float32), count=array([1])), max=0.21852238, min=9.538462e-08, std=0.038795024, sum=28.431293)"
      ]
     },
     "execution_count": 5,
     "metadata": {},
     "output_type": "execute_result"
    }
   ],
   "source": [
    "aggs[0]['spectral_flatness']"
   ]
  },
  {
   "cell_type": "code",
   "execution_count": 6,
   "metadata": {},
   "outputs": [],
   "source": [
    "tonnetzes = [lr.feature.tonnetz(audio) for audio, _ in audio_30secs]\n",
    "tonnetz_aggs = [utilty.get_aggregations(tonnetz, axis=1) for tonnetz in tonnetzes]\n",
    "tonnetz_map = {0: 'x_P5', 1: 'y_P5', 2: 'x_m3', 3: 'y_m3', 4: 'x_M3', 5: 'y_M3'}"
   ]
  },
  {
   "cell_type": "code",
   "execution_count": 7,
   "metadata": {},
   "outputs": [
    {
     "data": {
      "text/plain": [
       "(6,)"
      ]
     },
     "execution_count": 7,
     "metadata": {},
     "output_type": "execute_result"
    }
   ],
   "source": [
    "tonnetz_aggs[0].mean.shape # 6 for perfect 5ths, major 3rds, minor 3rds with x and y"
   ]
  },
  {
   "cell_type": "code",
   "execution_count": 9,
   "metadata": {},
   "outputs": [],
   "source": [
    "tnz = tonnetz_aggs[0]"
   ]
  },
  {
   "cell_type": "code",
   "execution_count": 14,
   "metadata": {},
   "outputs": [
    {
     "data": {
      "text/plain": [
       "('mean', 'median', 'mode', 'max', 'min', 'std', 'sum')"
      ]
     },
     "execution_count": 14,
     "metadata": {},
     "output_type": "execute_result"
    }
   ],
   "source": [
    "tnz._fields"
   ]
  },
  {
   "cell_type": "code",
   "execution_count": 17,
   "metadata": {},
   "outputs": [
    {
     "name": "stdout",
     "output_type": "stream",
     "text": [
      "mean\n",
      "\t [ 0.01082346  0.01750369  0.13759612 -0.04362405  0.01900487 -0.01276979]\n",
      "median\n",
      "\t [ 0.01053545  0.01768655  0.13372641 -0.02555879  0.01944662 -0.01574702]\n",
      "mode\n",
      "\t ModeResult(mode=array([[-0.08937595],\n",
      "       [-0.06368575],\n",
      "       [-0.26841515],\n",
      "       [-0.42429943],\n",
      "       [-0.08670658],\n",
      "       [-0.09132711]]), count=array([[1],\n",
      "       [1],\n",
      "       [1],\n",
      "       [1],\n",
      "       [1],\n",
      "       [1]]))\n",
      "max\n",
      "\t [0.12209626 0.09531961 0.44775712 0.236717   0.101992   0.10537972]\n",
      "min\n",
      "\t [-0.08937595 -0.06368575 -0.26841515 -0.42429943 -0.08670658 -0.09132711]\n",
      "std\n",
      "\t [0.02869707 0.02211437 0.13196933 0.09281758 0.03923335 0.02852125]\n",
      "sum\n",
      "\t [ 13.98390864  22.61476581 177.77418751 -56.36227596  24.55429309\n",
      " -16.49857241]\n"
     ]
    }
   ],
   "source": [
    "for field, agg in tnz._asdict().items():\n",
    "    print(field)\n",
    "    print('\\t', agg)"
   ]
  },
  {
   "cell_type": "code",
   "execution_count": 24,
   "metadata": {},
   "outputs": [
    {
     "data": {
      "text/plain": [
       "(array([ 0.01082346,  0.01750369,  0.13759612, -0.04362405,  0.01900487,\n",
       "        -0.01276979]),\n",
       " array([ 0.01053545,  0.01768655,  0.13372641, -0.02555879,  0.01944662,\n",
       "        -0.01574702]),\n",
       " ModeResult(mode=array([[-0.08937595],\n",
       "        [-0.06368575],\n",
       "        [-0.26841515],\n",
       "        [-0.42429943],\n",
       "        [-0.08670658],\n",
       "        [-0.09132711]]), count=array([[1],\n",
       "        [1],\n",
       "        [1],\n",
       "        [1],\n",
       "        [1],\n",
       "        [1]])),\n",
       " array([0.12209626, 0.09531961, 0.44775712, 0.236717  , 0.101992  ,\n",
       "        0.10537972]),\n",
       " array([-0.08937595, -0.06368575, -0.26841515, -0.42429943, -0.08670658,\n",
       "        -0.09132711]),\n",
       " array([0.02869707, 0.02211437, 0.13196933, 0.09281758, 0.03923335,\n",
       "        0.02852125]),\n",
       " array([ 13.98390864,  22.61476581, 177.77418751, -56.36227596,\n",
       "         24.55429309, -16.49857241]))"
      ]
     },
     "execution_count": 24,
     "metadata": {},
     "output_type": "execute_result"
    }
   ],
   "source": [
    "tuple(tnz._asdict().values())"
   ]
  },
  {
   "cell_type": "code",
   "execution_count": 27,
   "metadata": {},
   "outputs": [],
   "source": [
    "def tonnetz_aggs(audio_segment):\n",
    "    \"\"\"Return tonnetz_aggs from audio_segment\"\"\"\n",
    "    tonnetz = lr.feature.tonnetz(audio)\n",
    "    tonnetz_aggs = utilty.get_aggregations(tonnetz, axis=1)\n",
    "    tonnetz_ids = 'x_P5 y_P5 x_m3 y_m3 x_M3 y_M3'.split()\n",
    "    tonnetz_dct = {}\n",
    "    for field, agg_arr in tonnetz_aggs._asdict().items():\n",
    "        \n",
    "    \n",
    "    return {id: agg for id, agg in zip(tonnetz_ids, tonnetz_aggs._asdict().values())}"
   ]
  },
  {
   "cell_type": "code",
   "execution_count": 29,
   "metadata": {},
   "outputs": [
    {
     "data": {
      "text/plain": [
       "{'x_P5': array([ 0.01428755,  0.01690418,  0.14570838, -0.0501279 ,  0.02151135,\n",
       "        -0.01199497]),\n",
       " 'y_P5': array([ 0.0138555 ,  0.01652153,  0.14819762, -0.02714751,  0.02441909,\n",
       "        -0.01689105]),\n",
       " 'x_m3': ModeResult(mode=array([[-0.09310386],\n",
       "        [-0.05089711],\n",
       "        [-0.17309714],\n",
       "        [-0.40716162],\n",
       "        [-0.08455134],\n",
       "        [-0.08348381]]), count=array([[1],\n",
       "        [1],\n",
       "        [1],\n",
       "        [1],\n",
       "        [1],\n",
       "        [1]])),\n",
       " 'y_m3': array([0.13017412, 0.10159274, 0.4034588 , 0.09436358, 0.10272051,\n",
       "        0.09731782]),\n",
       " 'x_M3': array([-0.09310386, -0.05089711, -0.17309714, -0.40716162, -0.08455134,\n",
       "        -0.08348381]),\n",
       " 'y_M3': array([0.02753574, 0.02159649, 0.12742599, 0.09356664, 0.04020301,\n",
       "        0.02847409])}"
      ]
     },
     "execution_count": 29,
     "metadata": {},
     "output_type": "execute_result"
    }
   ],
   "source": [
    "tonnetz_aggs(audio)"
   ]
  },
  {
   "cell_type": "code",
   "execution_count": null,
   "metadata": {},
   "outputs": [],
   "source": []
  },
  {
   "cell_type": "code",
   "execution_count": null,
   "metadata": {},
   "outputs": [],
   "source": []
  },
  {
   "cell_type": "code",
   "execution_count": null,
   "metadata": {},
   "outputs": [],
   "source": [
    "from importlib import reload\n",
    "reload(utilty);"
   ]
  }
 ],
 "metadata": {
  "kernelspec": {
   "display_name": "Python 3",
   "language": "python",
   "name": "python3"
  },
  "language_info": {
   "codemirror_mode": {
    "name": "ipython",
    "version": 3
   },
   "file_extension": ".py",
   "mimetype": "text/x-python",
   "name": "python",
   "nbconvert_exporter": "python",
   "pygments_lexer": "ipython3",
   "version": "3.7.2"
  }
 },
 "nbformat": 4,
 "nbformat_minor": 2
}
