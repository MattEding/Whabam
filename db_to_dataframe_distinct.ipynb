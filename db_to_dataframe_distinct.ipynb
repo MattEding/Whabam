{
 "cells": [
  {
   "cell_type": "code",
   "execution_count": 1,
   "metadata": {},
   "outputs": [],
   "source": [
    "from pathlib import Path\n",
    "from string import punctuation\n",
    "\n",
    "import pandas as pd\n",
    "import psycopg2 as pg\n",
    "\n",
    "import database"
   ]
  },
  {
   "cell_type": "code",
   "execution_count": 2,
   "metadata": {},
   "outputs": [],
   "source": [
    "def agg_factory_SELECT(agg):\n",
    "    return \"{feature}.{agg} AS {feature}_{agg}\".format(agg=agg, feature=\"{feature}\")"
   ]
  },
  {
   "cell_type": "code",
   "execution_count": 22,
   "metadata": {},
   "outputs": [],
   "source": [
    "pitches = [f'pitch_{i}' for i in range(12)]\n",
    "spectrals = \"spectral_bandwidth spectral_centroid spectral_flatness spectral_rolloff\".split()\n",
    "tonnetzes = \"x_perf5 x_min3 x_maj3 y_perf5 y_min3 y_maj3\".split()\n",
    "features = \"dynamic_tempo\".split()\n",
    "agg_features = features + pitches + spectrals"
   ]
  },
  {
   "cell_type": "code",
   "execution_count": 23,
   "metadata": {},
   "outputs": [],
   "source": [
    "def features_aggs_SELECT(features, *aggs):\n",
    "    aggs = ',\\n'.join(agg_factory_SELECT(agg) for agg in aggs)\n",
    "    return ',\\n\\n'.join(aggs.format(feature=feature) for feature in features)"
   ]
  },
  {
   "cell_type": "code",
   "execution_count": 24,
   "metadata": {},
   "outputs": [],
   "source": [
    "def table_others_LEFT_JOIN(table, *others):\n",
    "    leftjoin = \"LEFT JOIN {other} ON {table}.song={other}.song AND \" \\\n",
    "               \"{table}.segment={other}.segment\".format(table=table, other=\"{other}\")\n",
    "    \n",
    "    leftjoins = \"\\n\".join(leftjoin.format(other=other) for other in others)\n",
    "    return f'FROM {table}\\n{leftjoins}'"
   ]
  },
  {
   "cell_type": "code",
   "execution_count": 25,
   "metadata": {},
   "outputs": [
    {
     "name": "stdout",
     "output_type": "stream",
     "text": [
      "\n",
      "SELECT DISTINCT ON (tempo.song, tempo.segment)\n",
      "tempo.song AS song,\n",
      "tempo.segment AS seg,\n",
      "tempo.val AS tempo,\n",
      "\n",
      "dynamic_tempo.mean AS dynamic_tempo_mean,\n",
      "dynamic_tempo.median AS dynamic_tempo_median,\n",
      "dynamic_tempo.std AS dynamic_tempo_std,\n",
      "dynamic_tempo.amin AS dynamic_tempo_amin,\n",
      "dynamic_tempo.amax AS dynamic_tempo_amax,\n",
      "\n",
      "pitch_0.mean AS pitch_0_mean,\n",
      "pitch_0.median AS pitch_0_median,\n",
      "pitch_0.std AS pitch_0_std,\n",
      "pitch_0.amin AS pitch_0_amin,\n",
      "pitch_0.amax AS pitch_0_amax,\n",
      "\n",
      "pitch_1.mean AS pitch_1_mean,\n",
      "pitch_1.median AS pitch_1_median,\n",
      "pitch_1.std AS pitch_1_std,\n",
      "pitch_1.amin AS pitch_1_amin,\n",
      "pitch_1.amax AS pitch_1_amax,\n",
      "\n",
      "pitch_2.mean AS pitch_2_mean,\n",
      "pitch_2.median AS pitch_2_median,\n",
      "pitch_2.std AS pitch_2_std,\n",
      "pitch_2.amin AS pitch_2_amin,\n",
      "pitch_2.amax AS pitch_2_amax,\n",
      "\n",
      "pitch_3.mean AS pitch_3_mean,\n",
      "pitch_3.median AS pitch_3_median,\n",
      "pitch_3.std AS pitch_3_std,\n",
      "pitch_3.amin AS pitch_3_amin,\n",
      "pitch_3.amax AS pitch_3_amax,\n",
      "\n",
      "pitch_4.mean AS pitch_4_mean,\n",
      "pitch_4.median AS pitch_4_median,\n",
      "pitch_4.std AS pitch_4_std,\n",
      "pitch_4.amin AS pitch_4_amin,\n",
      "pitch_4.amax AS pitch_4_amax,\n",
      "\n",
      "pitch_5.mean AS pitch_5_mean,\n",
      "pitch_5.median AS pitch_5_median,\n",
      "pitch_5.std AS pitch_5_std,\n",
      "pitch_5.amin AS pitch_5_amin,\n",
      "pitch_5.amax AS pitch_5_amax,\n",
      "\n",
      "pitch_6.mean AS pitch_6_mean,\n",
      "pitch_6.median AS pitch_6_median,\n",
      "pitch_6.std AS pitch_6_std,\n",
      "pitch_6.amin AS pitch_6_amin,\n",
      "pitch_6.amax AS pitch_6_amax,\n",
      "\n",
      "pitch_7.mean AS pitch_7_mean,\n",
      "pitch_7.median AS pitch_7_median,\n",
      "pitch_7.std AS pitch_7_std,\n",
      "pitch_7.amin AS pitch_7_amin,\n",
      "pitch_7.amax AS pitch_7_amax,\n",
      "\n",
      "pitch_8.mean AS pitch_8_mean,\n",
      "pitch_8.median AS pitch_8_median,\n",
      "pitch_8.std AS pitch_8_std,\n",
      "pitch_8.amin AS pitch_8_amin,\n",
      "pitch_8.amax AS pitch_8_amax,\n",
      "\n",
      "pitch_9.mean AS pitch_9_mean,\n",
      "pitch_9.median AS pitch_9_median,\n",
      "pitch_9.std AS pitch_9_std,\n",
      "pitch_9.amin AS pitch_9_amin,\n",
      "pitch_9.amax AS pitch_9_amax,\n",
      "\n",
      "pitch_10.mean AS pitch_10_mean,\n",
      "pitch_10.median AS pitch_10_median,\n",
      "pitch_10.std AS pitch_10_std,\n",
      "pitch_10.amin AS pitch_10_amin,\n",
      "pitch_10.amax AS pitch_10_amax,\n",
      "\n",
      "pitch_11.mean AS pitch_11_mean,\n",
      "pitch_11.median AS pitch_11_median,\n",
      "pitch_11.std AS pitch_11_std,\n",
      "pitch_11.amin AS pitch_11_amin,\n",
      "pitch_11.amax AS pitch_11_amax,\n",
      "\n",
      "spectral_bandwidth.mean AS spectral_bandwidth_mean,\n",
      "spectral_bandwidth.median AS spectral_bandwidth_median,\n",
      "spectral_bandwidth.std AS spectral_bandwidth_std,\n",
      "spectral_bandwidth.amin AS spectral_bandwidth_amin,\n",
      "spectral_bandwidth.amax AS spectral_bandwidth_amax,\n",
      "\n",
      "spectral_centroid.mean AS spectral_centroid_mean,\n",
      "spectral_centroid.median AS spectral_centroid_median,\n",
      "spectral_centroid.std AS spectral_centroid_std,\n",
      "spectral_centroid.amin AS spectral_centroid_amin,\n",
      "spectral_centroid.amax AS spectral_centroid_amax,\n",
      "\n",
      "spectral_flatness.mean AS spectral_flatness_mean,\n",
      "spectral_flatness.median AS spectral_flatness_median,\n",
      "spectral_flatness.std AS spectral_flatness_std,\n",
      "spectral_flatness.amin AS spectral_flatness_amin,\n",
      "spectral_flatness.amax AS spectral_flatness_amax,\n",
      "\n",
      "spectral_rolloff.mean AS spectral_rolloff_mean,\n",
      "spectral_rolloff.median AS spectral_rolloff_median,\n",
      "spectral_rolloff.std AS spectral_rolloff_std,\n",
      "spectral_rolloff.amin AS spectral_rolloff_amin,\n",
      "spectral_rolloff.amax AS spectral_rolloff_amax\n",
      "\n",
      "FROM tempo\n",
      "LEFT JOIN dynamic_tempo ON tempo.song=dynamic_tempo.song AND tempo.segment=dynamic_tempo.segment\n",
      "LEFT JOIN pitch_0 ON tempo.song=pitch_0.song AND tempo.segment=pitch_0.segment\n",
      "LEFT JOIN pitch_1 ON tempo.song=pitch_1.song AND tempo.segment=pitch_1.segment\n",
      "LEFT JOIN pitch_2 ON tempo.song=pitch_2.song AND tempo.segment=pitch_2.segment\n",
      "LEFT JOIN pitch_3 ON tempo.song=pitch_3.song AND tempo.segment=pitch_3.segment\n",
      "LEFT JOIN pitch_4 ON tempo.song=pitch_4.song AND tempo.segment=pitch_4.segment\n",
      "LEFT JOIN pitch_5 ON tempo.song=pitch_5.song AND tempo.segment=pitch_5.segment\n",
      "LEFT JOIN pitch_6 ON tempo.song=pitch_6.song AND tempo.segment=pitch_6.segment\n",
      "LEFT JOIN pitch_7 ON tempo.song=pitch_7.song AND tempo.segment=pitch_7.segment\n",
      "LEFT JOIN pitch_8 ON tempo.song=pitch_8.song AND tempo.segment=pitch_8.segment\n",
      "LEFT JOIN pitch_9 ON tempo.song=pitch_9.song AND tempo.segment=pitch_9.segment\n",
      "LEFT JOIN pitch_10 ON tempo.song=pitch_10.song AND tempo.segment=pitch_10.segment\n",
      "LEFT JOIN pitch_11 ON tempo.song=pitch_11.song AND tempo.segment=pitch_11.segment\n",
      "LEFT JOIN spectral_bandwidth ON tempo.song=spectral_bandwidth.song AND tempo.segment=spectral_bandwidth.segment\n",
      "LEFT JOIN spectral_centroid ON tempo.song=spectral_centroid.song AND tempo.segment=spectral_centroid.segment\n",
      "LEFT JOIN spectral_flatness ON tempo.song=spectral_flatness.song AND tempo.segment=spectral_flatness.segment\n",
      "LEFT JOIN spectral_rolloff ON tempo.song=spectral_rolloff.song AND tempo.segment=spectral_rolloff.segment;\n",
      "\n"
     ]
    }
   ],
   "source": [
    "# NOTE: treat 'tempo' feature differently since it only has one feature -- 'val'\n",
    "aggs = ['mean', 'median', 'std', 'amin', 'amax']\n",
    "features_SELECT = features_aggs_SELECT(agg_features, *aggs) #\n",
    "features_LEFT_JOIN = table_others_LEFT_JOIN(\"tempo\", *agg_features)\n",
    "features_SELECT_LEFT_JOIN = f\"SELECT\\n{features_SELECT}\\n\\n{features_LEFT_JOIN}\"\n",
    "\n",
    "features_QUERY = f\"\"\"\n",
    "SELECT DISTINCT ON (tempo.song, tempo.segment)\n",
    "tempo.song AS song,\n",
    "tempo.segment AS seg,\n",
    "tempo.val AS tempo,\n",
    "\n",
    "{features_SELECT}\n",
    "\n",
    "{features_LEFT_JOIN};\n",
    "\"\"\"\n",
    "\n",
    "print(features_QUERY)"
   ]
  },
  {
   "cell_type": "code",
   "execution_count": 26,
   "metadata": {},
   "outputs": [],
   "source": [
    "connection = database.connect_db()"
   ]
  },
  {
   "cell_type": "code",
   "execution_count": 27,
   "metadata": {},
   "outputs": [
    {
     "name": "stdout",
     "output_type": "stream",
     "text": [
      "Tuesday, 12. February 2019 02:46PM \n",
      "\n",
      "Tuesday, 12. February 2019 02:58PM \n",
      "\n"
     ]
    }
   ],
   "source": [
    "from datetime import datetime\n",
    "\n",
    "print(datetime.now().strftime(\"%A, %d. %B %Y %I:%M%p\"), '\\n')\n",
    "df = pd.read_sql(features_QUERY, connection)\n",
    "print(datetime.now().strftime(\"%A, %d. %B %Y %I:%M%p\"), '\\n')"
   ]
  },
  {
   "cell_type": "code",
   "execution_count": 28,
   "metadata": {},
   "outputs": [
    {
     "data": {
      "text/plain": [
       "(2121, 88)"
      ]
     },
     "execution_count": 28,
     "metadata": {},
     "output_type": "execute_result"
    }
   ],
   "source": [
    "df.shape"
   ]
  },
  {
   "cell_type": "code",
   "execution_count": 29,
   "metadata": {},
   "outputs": [],
   "source": [
    "eminem = 'Eminem'\n",
    "rhcp = 'RedHotChiliPeppers'"
   ]
  },
  {
   "cell_type": "code",
   "execution_count": 30,
   "metadata": {},
   "outputs": [],
   "source": [
    "punct_table = str.maketrans({char: None for char in punctuation + ' '})\n",
    "\n",
    "def find_artist(song):\n",
    "    for track in tracks:\n",
    "        name = track.name.title().translate(punct_table)\n",
    "        if song in name:\n",
    "            if eminem in name:\n",
    "                return eminem\n",
    "            elif rhcp in name:\n",
    "                return rhcp\n",
    "            else:\n",
    "                return np.nan"
   ]
  },
  {
   "cell_type": "code",
   "execution_count": 31,
   "metadata": {},
   "outputs": [],
   "source": [
    "cwd = Path.cwd()\n",
    "tracks_dir = cwd / 'tracks'\n",
    "data_dir = cwd / 'data'\n",
    "pkl_path = data_dir / 'audio_df.pkl'\n",
    "\n",
    "tracks = list(tracks_dir.iterdir())"
   ]
  },
  {
   "cell_type": "code",
   "execution_count": 32,
   "metadata": {},
   "outputs": [],
   "source": [
    "df['artist'] = df['song'].map(find_artist)"
   ]
  },
  {
   "cell_type": "code",
   "execution_count": 33,
   "metadata": {},
   "outputs": [
    {
     "data": {
      "text/html": [
       "<div>\n",
       "<style scoped>\n",
       "    .dataframe tbody tr th:only-of-type {\n",
       "        vertical-align: middle;\n",
       "    }\n",
       "\n",
       "    .dataframe tbody tr th {\n",
       "        vertical-align: top;\n",
       "    }\n",
       "\n",
       "    .dataframe thead th {\n",
       "        text-align: right;\n",
       "    }\n",
       "</style>\n",
       "<table border=\"1\" class=\"dataframe\">\n",
       "  <thead>\n",
       "    <tr style=\"text-align: right;\">\n",
       "      <th></th>\n",
       "      <th>song</th>\n",
       "      <th>seg</th>\n",
       "      <th>tempo</th>\n",
       "      <th>dynamic_tempo_mean</th>\n",
       "      <th>dynamic_tempo_median</th>\n",
       "      <th>dynamic_tempo_std</th>\n",
       "      <th>dynamic_tempo_amin</th>\n",
       "      <th>dynamic_tempo_amax</th>\n",
       "      <th>pitch_0_mean</th>\n",
       "      <th>pitch_0_median</th>\n",
       "      <th>...</th>\n",
       "      <th>spectral_flatness_median</th>\n",
       "      <th>spectral_flatness_std</th>\n",
       "      <th>spectral_flatness_amin</th>\n",
       "      <th>spectral_flatness_amax</th>\n",
       "      <th>spectral_rolloff_mean</th>\n",
       "      <th>spectral_rolloff_median</th>\n",
       "      <th>spectral_rolloff_std</th>\n",
       "      <th>spectral_rolloff_amin</th>\n",
       "      <th>spectral_rolloff_amax</th>\n",
       "      <th>artist</th>\n",
       "    </tr>\n",
       "  </thead>\n",
       "  <tbody>\n",
       "    <tr>\n",
       "      <th>2116</th>\n",
       "      <td>YouReNeverOver</td>\n",
       "      <td>5</td>\n",
       "      <td>103.359375</td>\n",
       "      <td>105.834360</td>\n",
       "      <td>103.359375</td>\n",
       "      <td>11.737513</td>\n",
       "      <td>103.359375</td>\n",
       "      <td>161.499023</td>\n",
       "      <td>0.149067</td>\n",
       "      <td>0.119116</td>\n",
       "      <td>...</td>\n",
       "      <td>0.054638</td>\n",
       "      <td>0.068446</td>\n",
       "      <td>0.005677</td>\n",
       "      <td>0.390863</td>\n",
       "      <td>7195.289824</td>\n",
       "      <td>7353.588867</td>\n",
       "      <td>1233.897301</td>\n",
       "      <td>3746.777344</td>\n",
       "      <td>9776.074219</td>\n",
       "      <td>Eminem</td>\n",
       "    </tr>\n",
       "    <tr>\n",
       "      <th>2117</th>\n",
       "      <td>YouReNeverOver</td>\n",
       "      <td>6</td>\n",
       "      <td>103.359375</td>\n",
       "      <td>110.019335</td>\n",
       "      <td>103.359375</td>\n",
       "      <td>18.516281</td>\n",
       "      <td>103.359375</td>\n",
       "      <td>161.499023</td>\n",
       "      <td>0.162364</td>\n",
       "      <td>0.132784</td>\n",
       "      <td>...</td>\n",
       "      <td>0.053868</td>\n",
       "      <td>0.071312</td>\n",
       "      <td>0.004768</td>\n",
       "      <td>0.345875</td>\n",
       "      <td>7106.148697</td>\n",
       "      <td>7299.755859</td>\n",
       "      <td>1275.627134</td>\n",
       "      <td>3520.678711</td>\n",
       "      <td>9722.241211</td>\n",
       "      <td>Eminem</td>\n",
       "    </tr>\n",
       "    <tr>\n",
       "      <th>2118</th>\n",
       "      <td>YouReNeverOver</td>\n",
       "      <td>7</td>\n",
       "      <td>103.359375</td>\n",
       "      <td>105.199658</td>\n",
       "      <td>103.359375</td>\n",
       "      <td>9.839286</td>\n",
       "      <td>103.359375</td>\n",
       "      <td>161.499023</td>\n",
       "      <td>0.158162</td>\n",
       "      <td>0.126101</td>\n",
       "      <td>...</td>\n",
       "      <td>0.051920</td>\n",
       "      <td>0.072374</td>\n",
       "      <td>0.002913</td>\n",
       "      <td>0.370637</td>\n",
       "      <td>7078.757196</td>\n",
       "      <td>7251.306152</td>\n",
       "      <td>1146.331410</td>\n",
       "      <td>3488.378906</td>\n",
       "      <td>9711.474609</td>\n",
       "      <td>Eminem</td>\n",
       "    </tr>\n",
       "    <tr>\n",
       "      <th>2119</th>\n",
       "      <td>YouReNeverOver</td>\n",
       "      <td>8</td>\n",
       "      <td>103.359375</td>\n",
       "      <td>103.989371</td>\n",
       "      <td>103.359375</td>\n",
       "      <td>6.019208</td>\n",
       "      <td>103.359375</td>\n",
       "      <td>161.499023</td>\n",
       "      <td>0.147060</td>\n",
       "      <td>0.133317</td>\n",
       "      <td>...</td>\n",
       "      <td>0.046049</td>\n",
       "      <td>0.065159</td>\n",
       "      <td>0.002534</td>\n",
       "      <td>0.356291</td>\n",
       "      <td>6910.874878</td>\n",
       "      <td>7116.723633</td>\n",
       "      <td>1036.181625</td>\n",
       "      <td>3574.511719</td>\n",
       "      <td>9388.476562</td>\n",
       "      <td>Eminem</td>\n",
       "    </tr>\n",
       "    <tr>\n",
       "      <th>2120</th>\n",
       "      <td>YouReNeverOver</td>\n",
       "      <td>9</td>\n",
       "      <td>103.359375</td>\n",
       "      <td>105.467598</td>\n",
       "      <td>103.359375</td>\n",
       "      <td>9.904480</td>\n",
       "      <td>103.359375</td>\n",
       "      <td>151.999081</td>\n",
       "      <td>0.125093</td>\n",
       "      <td>0.110724</td>\n",
       "      <td>...</td>\n",
       "      <td>0.050464</td>\n",
       "      <td>0.069711</td>\n",
       "      <td>0.003367</td>\n",
       "      <td>0.365145</td>\n",
       "      <td>7283.739290</td>\n",
       "      <td>7498.937988</td>\n",
       "      <td>938.761908</td>\n",
       "      <td>4414.306641</td>\n",
       "      <td>9259.277344</td>\n",
       "      <td>Eminem</td>\n",
       "    </tr>\n",
       "  </tbody>\n",
       "</table>\n",
       "<p>5 rows × 89 columns</p>\n",
       "</div>"
      ],
      "text/plain": [
       "                song  seg       tempo  dynamic_tempo_mean  \\\n",
       "2116  YouReNeverOver    5  103.359375          105.834360   \n",
       "2117  YouReNeverOver    6  103.359375          110.019335   \n",
       "2118  YouReNeverOver    7  103.359375          105.199658   \n",
       "2119  YouReNeverOver    8  103.359375          103.989371   \n",
       "2120  YouReNeverOver    9  103.359375          105.467598   \n",
       "\n",
       "      dynamic_tempo_median  dynamic_tempo_std  dynamic_tempo_amin  \\\n",
       "2116            103.359375          11.737513          103.359375   \n",
       "2117            103.359375          18.516281          103.359375   \n",
       "2118            103.359375           9.839286          103.359375   \n",
       "2119            103.359375           6.019208          103.359375   \n",
       "2120            103.359375           9.904480          103.359375   \n",
       "\n",
       "      dynamic_tempo_amax  pitch_0_mean  pitch_0_median  ...  \\\n",
       "2116          161.499023      0.149067        0.119116  ...   \n",
       "2117          161.499023      0.162364        0.132784  ...   \n",
       "2118          161.499023      0.158162        0.126101  ...   \n",
       "2119          161.499023      0.147060        0.133317  ...   \n",
       "2120          151.999081      0.125093        0.110724  ...   \n",
       "\n",
       "      spectral_flatness_median  spectral_flatness_std  spectral_flatness_amin  \\\n",
       "2116                  0.054638               0.068446                0.005677   \n",
       "2117                  0.053868               0.071312                0.004768   \n",
       "2118                  0.051920               0.072374                0.002913   \n",
       "2119                  0.046049               0.065159                0.002534   \n",
       "2120                  0.050464               0.069711                0.003367   \n",
       "\n",
       "      spectral_flatness_amax  spectral_rolloff_mean  spectral_rolloff_median  \\\n",
       "2116                0.390863            7195.289824              7353.588867   \n",
       "2117                0.345875            7106.148697              7299.755859   \n",
       "2118                0.370637            7078.757196              7251.306152   \n",
       "2119                0.356291            6910.874878              7116.723633   \n",
       "2120                0.365145            7283.739290              7498.937988   \n",
       "\n",
       "      spectral_rolloff_std  spectral_rolloff_amin  spectral_rolloff_amax  \\\n",
       "2116           1233.897301            3746.777344            9776.074219   \n",
       "2117           1275.627134            3520.678711            9722.241211   \n",
       "2118           1146.331410            3488.378906            9711.474609   \n",
       "2119           1036.181625            3574.511719            9388.476562   \n",
       "2120            938.761908            4414.306641            9259.277344   \n",
       "\n",
       "      artist  \n",
       "2116  Eminem  \n",
       "2117  Eminem  \n",
       "2118  Eminem  \n",
       "2119  Eminem  \n",
       "2120  Eminem  \n",
       "\n",
       "[5 rows x 89 columns]"
      ]
     },
     "execution_count": 33,
     "metadata": {},
     "output_type": "execute_result"
    }
   ],
   "source": [
    "df.tail()"
   ]
  },
  {
   "cell_type": "code",
   "execution_count": 34,
   "metadata": {},
   "outputs": [],
   "source": [
    "df.to_pickle(pkl_path)"
   ]
  },
  {
   "cell_type": "code",
   "execution_count": 35,
   "metadata": {},
   "outputs": [],
   "source": [
    "connection.close()"
   ]
  },
  {
   "cell_type": "code",
   "execution_count": null,
   "metadata": {},
   "outputs": [],
   "source": []
  },
  {
   "cell_type": "code",
   "execution_count": null,
   "metadata": {},
   "outputs": [],
   "source": []
  },
  {
   "cell_type": "code",
   "execution_count": null,
   "metadata": {},
   "outputs": [],
   "source": []
  },
  {
   "cell_type": "code",
   "execution_count": 13,
   "metadata": {},
   "outputs": [],
   "source": [
    "# df.to_pickle(\"joined_df.pkl\")"
   ]
  },
  {
   "cell_type": "code",
   "execution_count": 87,
   "metadata": {},
   "outputs": [
    {
     "data": {
      "text/plain": [
       "0.9896275341819897"
      ]
     },
     "execution_count": 87,
     "metadata": {},
     "output_type": "execute_result"
    }
   ],
   "source": [
    "2099 / 2121"
   ]
  },
  {
   "cell_type": "code",
   "execution_count": 94,
   "metadata": {},
   "outputs": [
    {
     "data": {
      "text/plain": [
       "22"
      ]
     },
     "execution_count": 94,
     "metadata": {},
     "output_type": "execute_result"
    }
   ],
   "source": [
    "2121 - 2099  # only 22 entries that could possibly have inconsitent values"
   ]
  },
  {
   "cell_type": "code",
   "execution_count": null,
   "metadata": {},
   "outputs": [],
   "source": []
  },
  {
   "cell_type": "code",
   "execution_count": null,
   "metadata": {},
   "outputs": [],
   "source": []
  }
 ],
 "metadata": {
  "kernelspec": {
   "display_name": "Python 3",
   "language": "python",
   "name": "python3"
  },
  "language_info": {
   "codemirror_mode": {
    "name": "ipython",
    "version": 3
   },
   "file_extension": ".py",
   "mimetype": "text/x-python",
   "name": "python",
   "nbconvert_exporter": "python",
   "pygments_lexer": "ipython3",
   "version": "3.7.2"
  }
 },
 "nbformat": 4,
 "nbformat_minor": 2
}
