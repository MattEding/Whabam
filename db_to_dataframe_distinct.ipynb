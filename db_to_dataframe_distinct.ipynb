{
 "cells": [
  {
   "cell_type": "code",
   "execution_count": 1,
   "metadata": {},
   "outputs": [],
   "source": [
    "from datetime import datetime\n",
    "from pathlib import Path\n",
    "from string import punctuation\n",
    "\n",
    "import pandas as pd\n",
    "import psycopg2 as pg\n",
    "\n",
    "import database"
   ]
  },
  {
   "cell_type": "code",
   "execution_count": 4,
   "metadata": {},
   "outputs": [],
   "source": [
    "def agg_factory_SELECT(agg):\n",
    "    \"\"\"Return query part usable in SELECT with aggregation column for aribitrary feature table.\"\"\"\n",
    "    return \"{feature}.{agg} AS {feature}_{agg}\".format(agg=agg, feature=\"{feature}\")\n",
    "\n",
    "\n",
    "def features_aggs_SELECT(features, aggs):\n",
    "    \"\"\"Return query part usable in SELECT with feature tables and aggregation columns.\"\"\"\n",
    "    aggs = ',\\n'.join(agg_factory_SELECT(agg) for agg in aggs)\n",
    "    return ',\\n\\n'.join(aggs.format(feature=feature) for feature in features)\n",
    "\n",
    "\n",
    "def table_others_LEFT_JOIN(table, others):\n",
    "    \"\"\"Return query part for LEFT JOIN table ON other tables.\"\"\"\n",
    "    leftjoin = \"LEFT JOIN {other} ON {table}.song={other}.song AND \" \\\n",
    "               \"{table}.segment={other}.segment\".format(table=table, other=\"{other}\")\n",
    "    \n",
    "    leftjoins = \"\\n\".join(leftjoin.format(other=other) for other in others)\n",
    "    return f'FROM {table}\\n{leftjoins}'"
   ]
  },
  {
   "cell_type": "code",
   "execution_count": 3,
   "metadata": {},
   "outputs": [],
   "source": [
    "pitches = [f'pitch_{i}' for i in range(12)]\n",
    "spectrals = \"spectral_bandwidth spectral_centroid spectral_flatness spectral_rolloff\".split()\n",
    "features = [\"dynamic_tempo\"] + pitches + spectrals\n",
    "aggs = ['mean', 'median', 'std', 'amin', 'amax']"
   ]
  },
  {
   "cell_type": "code",
   "execution_count": 6,
   "metadata": {
    "collapsed": true
   },
   "outputs": [
    {
     "name": "stdout",
     "output_type": "stream",
     "text": [
      "\n",
      "SELECT DISTINCT ON (tempo.song, tempo.segment)\n",
      "tempo.song AS song,\n",
      "tempo.segment AS seg,\n",
      "tempo.val AS tempo,\n",
      "\n",
      "dynamic_tempo.mean AS dynamic_tempo_mean,\n",
      "dynamic_tempo.median AS dynamic_tempo_median,\n",
      "dynamic_tempo.std AS dynamic_tempo_std,\n",
      "dynamic_tempo.amin AS dynamic_tempo_amin,\n",
      "dynamic_tempo.amax AS dynamic_tempo_amax,\n",
      "\n",
      "pitch_0.mean AS pitch_0_mean,\n",
      "pitch_0.median AS pitch_0_median,\n",
      "pitch_0.std AS pitch_0_std,\n",
      "pitch_0.amin AS pitch_0_amin,\n",
      "pitch_0.amax AS pitch_0_amax,\n",
      "\n",
      "pitch_1.mean AS pitch_1_mean,\n",
      "pitch_1.median AS pitch_1_median,\n",
      "pitch_1.std AS pitch_1_std,\n",
      "pitch_1.amin AS pitch_1_amin,\n",
      "pitch_1.amax AS pitch_1_amax,\n",
      "\n",
      "pitch_2.mean AS pitch_2_mean,\n",
      "pitch_2.median AS pitch_2_median,\n",
      "pitch_2.std AS pitch_2_std,\n",
      "pitch_2.amin AS pitch_2_amin,\n",
      "pitch_2.amax AS pitch_2_amax,\n",
      "\n",
      "pitch_3.mean AS pitch_3_mean,\n",
      "pitch_3.median AS pitch_3_median,\n",
      "pitch_3.std AS pitch_3_std,\n",
      "pitch_3.amin AS pitch_3_amin,\n",
      "pitch_3.amax AS pitch_3_amax,\n",
      "\n",
      "pitch_4.mean AS pitch_4_mean,\n",
      "pitch_4.median AS pitch_4_median,\n",
      "pitch_4.std AS pitch_4_std,\n",
      "pitch_4.amin AS pitch_4_amin,\n",
      "pitch_4.amax AS pitch_4_amax,\n",
      "\n",
      "pitch_5.mean AS pitch_5_mean,\n",
      "pitch_5.median AS pitch_5_median,\n",
      "pitch_5.std AS pitch_5_std,\n",
      "pitch_5.amin AS pitch_5_amin,\n",
      "pitch_5.amax AS pitch_5_amax,\n",
      "\n",
      "pitch_6.mean AS pitch_6_mean,\n",
      "pitch_6.median AS pitch_6_median,\n",
      "pitch_6.std AS pitch_6_std,\n",
      "pitch_6.amin AS pitch_6_amin,\n",
      "pitch_6.amax AS pitch_6_amax,\n",
      "\n",
      "pitch_7.mean AS pitch_7_mean,\n",
      "pitch_7.median AS pitch_7_median,\n",
      "pitch_7.std AS pitch_7_std,\n",
      "pitch_7.amin AS pitch_7_amin,\n",
      "pitch_7.amax AS pitch_7_amax,\n",
      "\n",
      "pitch_8.mean AS pitch_8_mean,\n",
      "pitch_8.median AS pitch_8_median,\n",
      "pitch_8.std AS pitch_8_std,\n",
      "pitch_8.amin AS pitch_8_amin,\n",
      "pitch_8.amax AS pitch_8_amax,\n",
      "\n",
      "pitch_9.mean AS pitch_9_mean,\n",
      "pitch_9.median AS pitch_9_median,\n",
      "pitch_9.std AS pitch_9_std,\n",
      "pitch_9.amin AS pitch_9_amin,\n",
      "pitch_9.amax AS pitch_9_amax,\n",
      "\n",
      "pitch_10.mean AS pitch_10_mean,\n",
      "pitch_10.median AS pitch_10_median,\n",
      "pitch_10.std AS pitch_10_std,\n",
      "pitch_10.amin AS pitch_10_amin,\n",
      "pitch_10.amax AS pitch_10_amax,\n",
      "\n",
      "pitch_11.mean AS pitch_11_mean,\n",
      "pitch_11.median AS pitch_11_median,\n",
      "pitch_11.std AS pitch_11_std,\n",
      "pitch_11.amin AS pitch_11_amin,\n",
      "pitch_11.amax AS pitch_11_amax,\n",
      "\n",
      "spectral_bandwidth.mean AS spectral_bandwidth_mean,\n",
      "spectral_bandwidth.median AS spectral_bandwidth_median,\n",
      "spectral_bandwidth.std AS spectral_bandwidth_std,\n",
      "spectral_bandwidth.amin AS spectral_bandwidth_amin,\n",
      "spectral_bandwidth.amax AS spectral_bandwidth_amax,\n",
      "\n",
      "spectral_centroid.mean AS spectral_centroid_mean,\n",
      "spectral_centroid.median AS spectral_centroid_median,\n",
      "spectral_centroid.std AS spectral_centroid_std,\n",
      "spectral_centroid.amin AS spectral_centroid_amin,\n",
      "spectral_centroid.amax AS spectral_centroid_amax,\n",
      "\n",
      "spectral_flatness.mean AS spectral_flatness_mean,\n",
      "spectral_flatness.median AS spectral_flatness_median,\n",
      "spectral_flatness.std AS spectral_flatness_std,\n",
      "spectral_flatness.amin AS spectral_flatness_amin,\n",
      "spectral_flatness.amax AS spectral_flatness_amax,\n",
      "\n",
      "spectral_rolloff.mean AS spectral_rolloff_mean,\n",
      "spectral_rolloff.median AS spectral_rolloff_median,\n",
      "spectral_rolloff.std AS spectral_rolloff_std,\n",
      "spectral_rolloff.amin AS spectral_rolloff_amin,\n",
      "spectral_rolloff.amax AS spectral_rolloff_amax\n",
      "\n",
      "FROM tempo\n",
      "LEFT JOIN dynamic_tempo ON tempo.song=dynamic_tempo.song AND tempo.segment=dynamic_tempo.segment\n",
      "LEFT JOIN pitch_0 ON tempo.song=pitch_0.song AND tempo.segment=pitch_0.segment\n",
      "LEFT JOIN pitch_1 ON tempo.song=pitch_1.song AND tempo.segment=pitch_1.segment\n",
      "LEFT JOIN pitch_2 ON tempo.song=pitch_2.song AND tempo.segment=pitch_2.segment\n",
      "LEFT JOIN pitch_3 ON tempo.song=pitch_3.song AND tempo.segment=pitch_3.segment\n",
      "LEFT JOIN pitch_4 ON tempo.song=pitch_4.song AND tempo.segment=pitch_4.segment\n",
      "LEFT JOIN pitch_5 ON tempo.song=pitch_5.song AND tempo.segment=pitch_5.segment\n",
      "LEFT JOIN pitch_6 ON tempo.song=pitch_6.song AND tempo.segment=pitch_6.segment\n",
      "LEFT JOIN pitch_7 ON tempo.song=pitch_7.song AND tempo.segment=pitch_7.segment\n",
      "LEFT JOIN pitch_8 ON tempo.song=pitch_8.song AND tempo.segment=pitch_8.segment\n",
      "LEFT JOIN pitch_9 ON tempo.song=pitch_9.song AND tempo.segment=pitch_9.segment\n",
      "LEFT JOIN pitch_10 ON tempo.song=pitch_10.song AND tempo.segment=pitch_10.segment\n",
      "LEFT JOIN pitch_11 ON tempo.song=pitch_11.song AND tempo.segment=pitch_11.segment\n",
      "LEFT JOIN spectral_bandwidth ON tempo.song=spectral_bandwidth.song AND tempo.segment=spectral_bandwidth.segment\n",
      "LEFT JOIN spectral_centroid ON tempo.song=spectral_centroid.song AND tempo.segment=spectral_centroid.segment\n",
      "LEFT JOIN spectral_flatness ON tempo.song=spectral_flatness.song AND tempo.segment=spectral_flatness.segment\n",
      "LEFT JOIN spectral_rolloff ON tempo.song=spectral_rolloff.song AND tempo.segment=spectral_rolloff.segment;\n",
      "\n"
     ]
    }
   ],
   "source": [
    "# NOTE: treat 'tempo' feature differently since it only has one feature -- 'val'\n",
    "features_SELECT = features_aggs_SELECT(features, aggs)\n",
    "features_LEFT_JOIN = table_others_LEFT_JOIN(\"tempo\", features)\n",
    "\n",
    "features_QUERY = f\"\"\"\n",
    "SELECT DISTINCT ON (tempo.song, tempo.segment)\n",
    "tempo.song AS song,\n",
    "tempo.segment AS seg,\n",
    "tempo.val AS tempo,\n",
    "\n",
    "{features_SELECT}\n",
    "\n",
    "{features_LEFT_JOIN};\n",
    "\"\"\"\n",
    "\n",
    "print(features_QUERY)"
   ]
  },
  {
   "cell_type": "code",
   "execution_count": 7,
   "metadata": {},
   "outputs": [],
   "source": [
    "connection = database.connect_db()"
   ]
  },
  {
   "cell_type": "code",
   "execution_count": 8,
   "metadata": {},
   "outputs": [
    {
     "name": "stdout",
     "output_type": "stream",
     "text": [
      "Wednesday, 13. February 2019 03:26PM \n",
      "\n",
      "Wednesday, 13. February 2019 03:37PM \n",
      "\n"
     ]
    }
   ],
   "source": [
    "#: This takes ~10 min\n",
    "print(datetime.now().strftime(\"%A, %d. %B %Y %I:%M%p\"), '\\n')\n",
    "df = pd.read_sql(features_QUERY, connection)\n",
    "print(datetime.now().strftime(\"%A, %d. %B %Y %I:%M%p\"), '\\n')"
   ]
  },
  {
   "cell_type": "code",
   "execution_count": 9,
   "metadata": {},
   "outputs": [
    {
     "data": {
      "text/plain": [
       "(2121, 88)"
      ]
     },
     "execution_count": 9,
     "metadata": {},
     "output_type": "execute_result"
    }
   ],
   "source": [
    "df.shape"
   ]
  },
  {
   "cell_type": "code",
   "execution_count": 11,
   "metadata": {},
   "outputs": [],
   "source": [
    "eminem = 'Eminem'\n",
    "rhcp = 'RedHotChiliPeppers'\n",
    "punct_table = str.maketrans({char: None for char in punctuation + ' '})\n",
    "\n",
    "def find_artist(song):\n",
    "    \"\"\"Return 'Eminem' or 'RedHotChiliPeppers' as song artist if possible. Else return None.\"\"\"\n",
    "    \n",
    "    for track in tracks:\n",
    "        name = track.name.title().translate(punct_table)\n",
    "        if song in name:\n",
    "            if eminem in name:\n",
    "                return eminem\n",
    "            elif rhcp in name:\n",
    "                return rhcp\n",
    "        return None"
   ]
  },
  {
   "cell_type": "code",
   "execution_count": 12,
   "metadata": {},
   "outputs": [],
   "source": [
    "cwd = Path.cwd()\n",
    "tracks_dir = cwd / 'tracks'\n",
    "data_dir = cwd / 'data'\n",
    "pkl_path = data_dir / 'audio_df.pkl'\n",
    "\n",
    "tracks = list(tracks_dir.iterdir())"
   ]
  },
  {
   "cell_type": "code",
   "execution_count": 13,
   "metadata": {},
   "outputs": [],
   "source": [
    "df['artist'] = df['song'].map(find_artist)"
   ]
  },
  {
   "cell_type": "code",
   "execution_count": 14,
   "metadata": {},
   "outputs": [],
   "source": [
    "connection.close()"
   ]
  },
  {
   "cell_type": "code",
   "execution_count": null,
   "metadata": {},
   "outputs": [],
   "source": [
    "df.to_pickle(pkl_path)"
   ]
  },
  {
   "cell_type": "code",
   "execution_count": null,
   "metadata": {},
   "outputs": [],
   "source": []
  }
 ],
 "metadata": {
  "kernelspec": {
   "display_name": "Python 3",
   "language": "python",
   "name": "python3"
  },
  "language_info": {
   "codemirror_mode": {
    "name": "ipython",
    "version": 3
   },
   "file_extension": ".py",
   "mimetype": "text/x-python",
   "name": "python",
   "nbconvert_exporter": "python",
   "pygments_lexer": "ipython3",
   "version": "3.6.8"
  }
 },
 "nbformat": 4,
 "nbformat_minor": 2
}
