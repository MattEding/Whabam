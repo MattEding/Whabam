{
 "cells": [
  {
   "cell_type": "code",
   "execution_count": 68,
   "metadata": {},
   "outputs": [],
   "source": [
    "from functools import partial\n",
    "import operator\n",
    "from pathlib import Path\n",
    "import warnings\n",
    "\n",
    "import matplotlib.pyplot as plt\n",
    "import numpy as np\n",
    "import pandas as pd\n",
    "\n",
    "from sklearn.base import (BaseEstimator, \n",
    "                          ClassifierMixin)\n",
    "from sklearn.ensemble import RandomForestClassifier\n",
    "from sklearn.exceptions import (ConvergenceWarning, \n",
    "                                UndefinedMetricWarning)\n",
    "from sklearn.linear_model import LogisticRegression\n",
    "from sklearn.metrics import (accuracy_score, \n",
    "                             auc, \n",
    "                             f1_score,\n",
    "                             make_scorer,\n",
    "                             precision_score, \n",
    "                             recall_score, \n",
    "                             roc_curve)\n",
    "from sklearn.model_selection import (cross_val_score, \n",
    "                                     GridSearchCV,\n",
    "                                     learning_curve, \n",
    "                                     train_test_split)\n",
    "from sklearn.naive_bayes import GaussianNB\n",
    "from sklearn.neighbors import KNeighborsClassifier\n",
    "from sklearn.pipeline import (make_pipeline, \n",
    "                              Pipeline)\n",
    "from sklearn.preprocessing import StandardScaler\n",
    "from sklearn.svm import (LinearSVC, \n",
    "                         SVC)\n",
    "from sklearn.tree import DecisionTreeClassifier\n",
    "\n",
    "warnings.filterwarnings('ignore', category=FutureWarning)\n",
    "warnings.filterwarnings('ignore', category=ConvergenceWarning)\n",
    "warnings.filterwarnings('ignore', category=UndefinedMetricWarning)"
   ]
  },
  {
   "cell_type": "code",
   "execution_count": 2,
   "metadata": {},
   "outputs": [],
   "source": [
    "cwd = Path.cwd()\n",
    "pkl_path = cwd / 'data' / 'audio_df.pkl'"
   ]
  },
  {
   "cell_type": "code",
   "execution_count": 129,
   "metadata": {},
   "outputs": [
    {
     "data": {
      "text/plain": [
       "(2121, 89)"
      ]
     },
     "execution_count": 129,
     "metadata": {},
     "output_type": "execute_result"
    }
   ],
   "source": [
    "audio_df = pd.read_pickle(pkl_path)\n",
    "audio_df.shape"
   ]
  },
  {
   "cell_type": "code",
   "execution_count": 130,
   "metadata": {},
   "outputs": [
    {
     "data": {
      "text/html": [
       "<div>\n",
       "<style scoped>\n",
       "    .dataframe tbody tr th:only-of-type {\n",
       "        vertical-align: middle;\n",
       "    }\n",
       "\n",
       "    .dataframe tbody tr th {\n",
       "        vertical-align: top;\n",
       "    }\n",
       "\n",
       "    .dataframe thead th {\n",
       "        text-align: right;\n",
       "    }\n",
       "</style>\n",
       "<table border=\"1\" class=\"dataframe\">\n",
       "  <thead>\n",
       "    <tr style=\"text-align: right;\">\n",
       "      <th></th>\n",
       "      <th>song</th>\n",
       "      <th>seg</th>\n",
       "      <th>tempo</th>\n",
       "      <th>dynamic_tempo_mean</th>\n",
       "      <th>dynamic_tempo_median</th>\n",
       "      <th>dynamic_tempo_std</th>\n",
       "      <th>dynamic_tempo_amin</th>\n",
       "      <th>dynamic_tempo_amax</th>\n",
       "      <th>pitch_0_mean</th>\n",
       "      <th>pitch_0_median</th>\n",
       "      <th>...</th>\n",
       "      <th>spectral_flatness_median</th>\n",
       "      <th>spectral_flatness_std</th>\n",
       "      <th>spectral_flatness_amin</th>\n",
       "      <th>spectral_flatness_amax</th>\n",
       "      <th>spectral_rolloff_mean</th>\n",
       "      <th>spectral_rolloff_median</th>\n",
       "      <th>spectral_rolloff_std</th>\n",
       "      <th>spectral_rolloff_amin</th>\n",
       "      <th>spectral_rolloff_amax</th>\n",
       "      <th>artist</th>\n",
       "    </tr>\n",
       "  </thead>\n",
       "  <tbody>\n",
       "    <tr>\n",
       "      <th>0</th>\n",
       "      <td>21StCentury</td>\n",
       "      <td>0</td>\n",
       "      <td>117.453835</td>\n",
       "      <td>116.845143</td>\n",
       "      <td>117.453835</td>\n",
       "      <td>1.654658</td>\n",
       "      <td>112.347147</td>\n",
       "      <td>117.453835</td>\n",
       "      <td>0.427060</td>\n",
       "      <td>0.404514</td>\n",
       "      <td>...</td>\n",
       "      <td>0.030193</td>\n",
       "      <td>0.048358</td>\n",
       "      <td>0.000559</td>\n",
       "      <td>0.875394</td>\n",
       "      <td>6097.246464</td>\n",
       "      <td>6336.145020</td>\n",
       "      <td>1629.179177</td>\n",
       "      <td>2239.453125</td>\n",
       "      <td>9366.943359</td>\n",
       "      <td>RedHotChiliPeppers</td>\n",
       "    </tr>\n",
       "    <tr>\n",
       "      <th>1</th>\n",
       "      <td>21StCentury</td>\n",
       "      <td>1</td>\n",
       "      <td>117.453835</td>\n",
       "      <td>116.818981</td>\n",
       "      <td>117.453835</td>\n",
       "      <td>2.229267</td>\n",
       "      <td>112.347147</td>\n",
       "      <td>123.046875</td>\n",
       "      <td>0.451266</td>\n",
       "      <td>0.422953</td>\n",
       "      <td>...</td>\n",
       "      <td>0.050188</td>\n",
       "      <td>0.046202</td>\n",
       "      <td>0.001887</td>\n",
       "      <td>0.340866</td>\n",
       "      <td>6458.052616</td>\n",
       "      <td>6416.894531</td>\n",
       "      <td>953.517885</td>\n",
       "      <td>3090.014648</td>\n",
       "      <td>9334.643555</td>\n",
       "      <td>RedHotChiliPeppers</td>\n",
       "    </tr>\n",
       "  </tbody>\n",
       "</table>\n",
       "<p>2 rows × 89 columns</p>\n",
       "</div>"
      ],
      "text/plain": [
       "          song  seg       tempo  dynamic_tempo_mean  dynamic_tempo_median  \\\n",
       "0  21StCentury    0  117.453835          116.845143            117.453835   \n",
       "1  21StCentury    1  117.453835          116.818981            117.453835   \n",
       "\n",
       "   dynamic_tempo_std  dynamic_tempo_amin  dynamic_tempo_amax  pitch_0_mean  \\\n",
       "0           1.654658          112.347147          117.453835      0.427060   \n",
       "1           2.229267          112.347147          123.046875      0.451266   \n",
       "\n",
       "   pitch_0_median  ...  spectral_flatness_median  spectral_flatness_std  \\\n",
       "0        0.404514  ...                  0.030193               0.048358   \n",
       "1        0.422953  ...                  0.050188               0.046202   \n",
       "\n",
       "   spectral_flatness_amin  spectral_flatness_amax  spectral_rolloff_mean  \\\n",
       "0                0.000559                0.875394            6097.246464   \n",
       "1                0.001887                0.340866            6458.052616   \n",
       "\n",
       "   spectral_rolloff_median  spectral_rolloff_std  spectral_rolloff_amin  \\\n",
       "0              6336.145020           1629.179177            2239.453125   \n",
       "1              6416.894531            953.517885            3090.014648   \n",
       "\n",
       "   spectral_rolloff_amax              artist  \n",
       "0            9366.943359  RedHotChiliPeppers  \n",
       "1            9334.643555  RedHotChiliPeppers  \n",
       "\n",
       "[2 rows x 89 columns]"
      ]
     },
     "execution_count": 130,
     "metadata": {},
     "output_type": "execute_result"
    }
   ],
   "source": [
    "audio_df.head(2)"
   ]
  },
  {
   "cell_type": "code",
   "execution_count": 6,
   "metadata": {},
   "outputs": [],
   "source": [
    "X = audio_df.drop(columns=['song', 'seg', 'artist'])\n",
    "y = audio_df['artist'].map({'Eminem': 0, 'RedHotChiliPeppers': 1})"
   ]
  },
  {
   "cell_type": "code",
   "execution_count": 106,
   "metadata": {},
   "outputs": [],
   "source": [
    "class BaselineClassifier(BaseEstimator, ClassifierMixin):\n",
    "    \"\"\"A classifier that always predicts the baseline class.\"\"\"\n",
    "    \n",
    "    def __init__(self, baseline=None):\n",
    "        self.baseline = baseline\n",
    "    \n",
    "    def fit(self, X=None, y=None):\n",
    "        return\n",
    "    \n",
    "    def predict(self, X):\n",
    "        return np.full(len(X), self.baseline)\n",
    "    \n",
    "\n",
    "EminemClassifier = BaselineClassifier(0)\n",
    "RHCPClassifier = BaselineClassifier(1)"
   ]
  },
  {
   "cell_type": "code",
   "execution_count": 108,
   "metadata": {},
   "outputs": [],
   "source": [
    "def cv_score(estimator, X, y, cv=5, scoring=None):\n",
    "    \"\"\"Return the mean score of an estimator and classifier objects X and y using cross validation.\"\"\"\n",
    "    \n",
    "    scalar = StandardScaler()\n",
    "    pipeline = Pipeline([('transformer', scalar), ('estimator', estimator)])\n",
    "    cvs = cross_val_score(estimator=pipeline, \n",
    "                          X=X, \n",
    "                          y=y, \n",
    "                          cv=cv,\n",
    "                          scoring=scoring)\n",
    "    return cvs.mean()\n",
    "\n",
    "\n",
    "def score_estimator(estimator):\n",
    "    \"\"\"Return dict with name of scorer as key and the score as the value for each scorer.\"\"\"\n",
    "    return {name: cv(estimator) for name, cv in zip(metric_names, cv_metrics)}\n",
    "\n",
    "\n",
    "cv_X_y = partial(cv_score, X=X, y=y)\n",
    "cv_accuracy = partial(cv_X_y, scoring=make_scorer(accuracy_score))\n",
    "cv_f1 = partial(cv_X_y, scoring=make_scorer(f1_score))\n",
    "cv_precision = partial(cv_X_y, scoring=make_scorer(precision_score))\n",
    "cv_recall = partial(cv_X_y, scoring=make_scorer(recall_score))\n",
    "\n",
    "metric_scores = [accuracy_score, f1_score, precision_score, recall_score]\n",
    "metric_names = [metric.__name__ for metric in metric_scores]\n",
    "cv_metrics = [cv_accuracy, cv_f1, cv_precision, cv_recall]"
   ]
  },
  {
   "cell_type": "code",
   "execution_count": 111,
   "metadata": {},
   "outputs": [],
   "source": [
    "def plot_roc_calc_auc(estimator, X_train, X_test, y_train, y_test):\n",
    "    \"\"\"Plot the ROC and return the AUC.\"\"\"\n",
    "    \n",
    "    estimator.fit(X_train, y_train)\n",
    "    y_score = estimator.predict_proba(X_test)\n",
    "    false_pos, true_pos, _ = roc_curve(y_test, y_score[:,1])\n",
    "    \n",
    "    plt.plot(false_pos, true_pos)\n",
    "    \n",
    "    est_name = type(estimator).__name__\n",
    "    default_params = type(estimator)().get_params().items()\n",
    "    estimator_params = estimator.get_params().items()\n",
    "    hyper_params = (est_p for def_p, est_p in zip(default_params, estimator_params) if def_p != est_p)\n",
    "    hyper_params = (f'{arg}={val}' for arg, val in hyper_params)\n",
    "    hyper_params = ', '.join(hyper_params)\n",
    "    \n",
    "    plt.title(f'ROC: {est_name}({hyper_params})')\n",
    "    plt.xlabel('False Positive Rate')\n",
    "    plt.ylabel('True Positive Rate')\n",
    "    \n",
    "    return f'AUC: {auc(false_pos, true_pos)}'\n",
    "\n",
    "\n",
    "X_train, X_test, y_train, y_test = train_test_split(X, y, test_size=0.2, random_state=0)\n",
    "scaler = StandardScaler()\n",
    "X_train = scaler.fit_transform(X_train)\n",
    "X_test = scaler.transform(X_test)\n",
    "\n",
    "plot_roc_calc_auc_audio = partial(plot_roc_calc_auc, \n",
    "                                  X_train=X_train,\n",
    "                                  X_test=X_test,\n",
    "                                  y_train=y_train,\n",
    "                                  y_test=y_test)"
   ]
  },
  {
   "cell_type": "code",
   "execution_count": 81,
   "metadata": {},
   "outputs": [],
   "source": [
    "def grid_search_cv(estimator, param_grid, X, y, cv=5):\n",
    "    \"\"\"Return best_params_ after applying a standard scaler\"\"\"\n",
    "    \n",
    "    scaler = StandardScaler()\n",
    "    grid = make_pipeline(scaler, GridSearchCV(estimator, param_grid=param_grid, cv=cv))\n",
    "    grid.fit(X, y)\n",
    "    return grid.named_steps['gridsearchcv'].best_params_\n",
    "\n",
    "\n",
    "grid_cv = partial(grid_search_cv, X=X, y=y)"
   ]
  },
  {
   "cell_type": "markdown",
   "metadata": {},
   "source": [
    "# Baselines"
   ]
  },
  {
   "cell_type": "code",
   "execution_count": 45,
   "metadata": {},
   "outputs": [
    {
     "data": {
      "text/plain": [
       "{'accuracy_score': 0.4507302996670366,\n",
       " 'f1_score': 0.0,\n",
       " 'precision_score': 0.0,\n",
       " 'recall_score': 0.0}"
      ]
     },
     "execution_count": 45,
     "metadata": {},
     "output_type": "execute_result"
    }
   ],
   "source": [
    "score_estimator(EminemClassifier)"
   ]
  },
  {
   "cell_type": "code",
   "execution_count": 46,
   "metadata": {},
   "outputs": [
    {
     "data": {
      "text/plain": [
       "{'accuracy_score': 0.5492697003329634,\n",
       " 'f1_score': 0.7090690390602953,\n",
       " 'precision_score': 0.5492697003329634,\n",
       " 'recall_score': 1.0}"
      ]
     },
     "execution_count": 46,
     "metadata": {},
     "output_type": "execute_result"
    }
   ],
   "source": [
    "score_estimator(RHCPClassifier)"
   ]
  },
  {
   "cell_type": "markdown",
   "metadata": {},
   "source": [
    "# KNN"
   ]
  },
  {
   "cell_type": "code",
   "execution_count": 82,
   "metadata": {},
   "outputs": [
    {
     "data": {
      "text/plain": [
       "{'n_neighbors': 16}"
      ]
     },
     "execution_count": 82,
     "metadata": {},
     "output_type": "execute_result"
    }
   ],
   "source": [
    "param_grid = {'n_neighbors': range(1, 21)}\n",
    "knn_best = grid_cv(KNeighborsClassifier(), param_grid=param_grid)\n",
    "knn_best"
   ]
  },
  {
   "cell_type": "code",
   "execution_count": 83,
   "metadata": {},
   "outputs": [
    {
     "data": {
      "text/plain": [
       "{'accuracy_score': 0.822739178690344,\n",
       " 'f1_score': 0.8486761616217471,\n",
       " 'precision_score': 0.8045461471087944,\n",
       " 'recall_score': 0.9012875536480687}"
      ]
     },
     "execution_count": 83,
     "metadata": {},
     "output_type": "execute_result"
    }
   ],
   "source": [
    "score_estimator(KNeighborsClassifier(**knn_best))"
   ]
  },
  {
   "cell_type": "code",
   "execution_count": 113,
   "metadata": {},
   "outputs": [
    {
     "data": {
      "text/plain": [
       "'AUC: 0.9816573348264277'"
      ]
     },
     "execution_count": 113,
     "metadata": {},
     "output_type": "execute_result"
    },
    {
     "data": {
      "image/png": "[encoded data removed]",
      "text/plain": [
       "<Figure size 432x288 with 1 Axes>"
      ]
     },
     "metadata": {
      "needs_background": "light"
     },
     "output_type": "display_data"
    }
   ],
   "source": [
    "plot_roc_calc_auc_audio(KNeighborsClassifier(**knn_best))"
   ]
  },
  {
   "cell_type": "markdown",
   "metadata": {},
   "source": [
    "# Logistic Regression"
   ]
  },
  {
   "cell_type": "code",
   "execution_count": 85,
   "metadata": {},
   "outputs": [
    {
     "data": {
      "text/plain": [
       "{'C': 0.1, 'penalty': 'l1'}"
      ]
     },
     "execution_count": 85,
     "metadata": {},
     "output_type": "execute_result"
    }
   ],
   "source": [
    "param_grid = {'C': [pow(10, i) for i in range(-3, 4)], 'penalty': ['l1', 'l2']}\n",
    "logreg_best = grid_cv(LogisticRegression(), param_grid=param_grid)\n",
    "logreg_best"
   ]
  },
  {
   "cell_type": "code",
   "execution_count": 86,
   "metadata": {},
   "outputs": [
    {
     "data": {
      "text/plain": [
       "{'accuracy_score': 0.9014739178690345,\n",
       " 'f1_score': 0.9106312570853327,\n",
       " 'precision_score': 0.9069227220203826,\n",
       " 'recall_score': 0.9150214592274677}"
      ]
     },
     "execution_count": 86,
     "metadata": {},
     "output_type": "execute_result"
    }
   ],
   "source": [
    "score_estimator(LogisticRegression(**logreg_best))"
   ]
  },
  {
   "cell_type": "code",
   "execution_count": 114,
   "metadata": {},
   "outputs": [
    {
     "data": {
      "text/plain": [
       "'AUC: 0.9779619260918253'"
      ]
     },
     "execution_count": 114,
     "metadata": {},
     "output_type": "execute_result"
    },
    {
     "data": {
      "image/png": "[encoded data removed]",
      "text/plain": [
       "<Figure size 432x288 with 1 Axes>"
      ]
     },
     "metadata": {
      "needs_background": "light"
     },
     "output_type": "display_data"
    }
   ],
   "source": [
    "plot_roc_calc_auc_audio(LogisticRegression(**logreg_best))"
   ]
  },
  {
   "cell_type": "markdown",
   "metadata": {},
   "source": [
    "# Gaussian Naive Bayes"
   ]
  },
  {
   "cell_type": "code",
   "execution_count": 88,
   "metadata": {},
   "outputs": [
    {
     "data": {
      "text/plain": [
       "{'accuracy_score': 0.8382996670366261,\n",
       " 'f1_score': 0.849738274346584,\n",
       " 'precision_score': 0.8714689488979721,\n",
       " 'recall_score': 0.832618025751073}"
      ]
     },
     "execution_count": 88,
     "metadata": {},
     "output_type": "execute_result"
    }
   ],
   "source": [
    "score_estimator(GaussianNB())"
   ]
  },
  {
   "cell_type": "code",
   "execution_count": 115,
   "metadata": {},
   "outputs": [
    {
     "data": {
      "text/plain": [
       "'AUC: 0.9234042553191489'"
      ]
     },
     "execution_count": 115,
     "metadata": {},
     "output_type": "execute_result"
    },
    {
     "data": {
      "image/png": "[encoded data removed]",
      "text/plain": [
       "<Figure size 432x288 with 1 Axes>"
      ]
     },
     "metadata": {
      "needs_background": "light"
     },
     "output_type": "display_data"
    }
   ],
   "source": [
    "plot_roc_calc_auc_audio(GaussianNB())"
   ]
  },
  {
   "cell_type": "markdown",
   "metadata": {},
   "source": [
    "# Linear SVC"
   ]
  },
  {
   "cell_type": "code",
   "execution_count": 90,
   "metadata": {},
   "outputs": [
    {
     "data": {
      "text/plain": [
       "{'accuracy_score': 0.891558268590455,\n",
       " 'f1_score': 0.9015630850759223,\n",
       " 'precision_score': 0.8940583670969063,\n",
       " 'recall_score': 0.9115879828326181}"
      ]
     },
     "execution_count": 90,
     "metadata": {},
     "output_type": "execute_result"
    }
   ],
   "source": [
    "score_estimator(LinearSVC())  # does not have predict_proba to allow use of AUC"
   ]
  },
  {
   "cell_type": "code",
   "execution_count": 121,
   "metadata": {},
   "outputs": [
    {
     "data": {
      "text/plain": [
       "{'accuracy_score': 0.8830732519422864,\n",
       " 'f1_score': 0.8957721981403426,\n",
       " 'precision_score': 0.8782175748134291,\n",
       " 'recall_score': 0.9150214592274679}"
      ]
     },
     "execution_count": 121,
     "metadata": {},
     "output_type": "execute_result"
    }
   ],
   "source": [
    "score_estimator(SVC(kernel='linear'))"
   ]
  },
  {
   "cell_type": "code",
   "execution_count": 123,
   "metadata": {},
   "outputs": [
    {
     "data": {
      "text/plain": [
       "'AUC: 0.975879059350504'"
      ]
     },
     "execution_count": 123,
     "metadata": {},
     "output_type": "execute_result"
    },
    {
     "data": {
      "image/png": "[encoded data removed]",
      "text/plain": [
       "<Figure size 432x288 with 1 Axes>"
      ]
     },
     "metadata": {
      "needs_background": "light"
     },
     "output_type": "display_data"
    }
   ],
   "source": [
    "plot_roc_calc_auc_audio(SVC(kernel='linear', probability=True))"
   ]
  },
  {
   "cell_type": "markdown",
   "metadata": {},
   "source": [
    "# SVC"
   ]
  },
  {
   "cell_type": "code",
   "execution_count": 126,
   "metadata": {},
   "outputs": [
    {
     "data": {
      "text/plain": [
       "{'kernel': 'rbf'}"
      ]
     },
     "execution_count": 126,
     "metadata": {},
     "output_type": "execute_result"
    }
   ],
   "source": [
    "param_grid = {'kernel': ['poly', 'rbf', 'sigmoid']}\n",
    "svc_best = grid_cv(estimator=SVC(), param_grid=param_grid)\n",
    "svc_best"
   ]
  },
  {
   "cell_type": "code",
   "execution_count": 127,
   "metadata": {},
   "outputs": [
    {
     "data": {
      "text/plain": [
       "{'accuracy_score': 0.884496115427303,\n",
       " 'f1_score': 0.8985263638275345,\n",
       " 'precision_score': 0.8713291352597322,\n",
       " 'recall_score': 0.9287553648068669}"
      ]
     },
     "execution_count": 127,
     "metadata": {},
     "output_type": "execute_result"
    }
   ],
   "source": [
    "score_estimator(SVC(**svc_best))"
   ]
  },
  {
   "cell_type": "code",
   "execution_count": 128,
   "metadata": {},
   "outputs": [
    {
     "data": {
      "text/plain": [
       "'AUC: 0.9953191489361702'"
      ]
     },
     "execution_count": 128,
     "metadata": {},
     "output_type": "execute_result"
    },
    {
     "data": {
      "image/png": "[encoded data removed]",
      "text/plain": [
       "<Figure size 432x288 with 1 Axes>"
      ]
     },
     "metadata": {
      "needs_background": "light"
     },
     "output_type": "display_data"
    }
   ],
   "source": [
    "plot_roc_calc_auc_audio(SVC(probability=True, **svc_best))"
   ]
  },
  {
   "cell_type": "markdown",
   "metadata": {},
   "source": [
    "# Decision Tree"
   ]
  },
  {
   "cell_type": "code",
   "execution_count": 97,
   "metadata": {},
   "outputs": [
    {
     "data": {
      "text/plain": [
       "{'criterion': 'entropy'}"
      ]
     },
     "execution_count": 97,
     "metadata": {},
     "output_type": "execute_result"
    }
   ],
   "source": [
    "param_grid = {'criterion': ['gini', 'entropy']}\n",
    "dectree_best = grid_cv(DecisionTreeClassifier(), param_grid=param_grid)\n",
    "dectree_best"
   ]
  },
  {
   "cell_type": "code",
   "execution_count": 98,
   "metadata": {},
   "outputs": [
    {
     "data": {
      "text/plain": [
       "{'accuracy_score': 0.8217824639289677,\n",
       " 'f1_score': 0.8415599233925313,\n",
       " 'precision_score': 0.8401671555581502,\n",
       " 'recall_score': 0.8532188841201718}"
      ]
     },
     "execution_count": 98,
     "metadata": {},
     "output_type": "execute_result"
    }
   ],
   "source": [
    "score_estimator(DecisionTreeClassifier(**dectree_best))"
   ]
  },
  {
   "cell_type": "code",
   "execution_count": 117,
   "metadata": {},
   "outputs": [
    {
     "data": {
      "text/plain": [
       "'AUC: 0.9031914893617021'"
      ]
     },
     "execution_count": 117,
     "metadata": {},
     "output_type": "execute_result"
    },
    {
     "data": {
      "image/png": "[encoded data removed]",
      "text/plain": [
       "<Figure size 432x288 with 1 Axes>"
      ]
     },
     "metadata": {
      "needs_background": "light"
     },
     "output_type": "display_data"
    }
   ],
   "source": [
    "plot_roc_calc_auc_audio(DecisionTreeClassifier(**dectree_best))"
   ]
  },
  {
   "cell_type": "markdown",
   "metadata": {},
   "source": [
    "# Random Forest"
   ]
  },
  {
   "cell_type": "code",
   "execution_count": 100,
   "metadata": {},
   "outputs": [
    {
     "data": {
      "text/plain": [
       "{'criterion': 'entropy'}"
      ]
     },
     "execution_count": 100,
     "metadata": {},
     "output_type": "execute_result"
    }
   ],
   "source": [
    "param_grid = {'criterion': ['gini', 'entropy']}\n",
    "randforest_best = grid_cv(RandomForestClassifier(), param_grid=param_grid)\n",
    "randforest_best"
   ]
  },
  {
   "cell_type": "code",
   "execution_count": 101,
   "metadata": {},
   "outputs": [
    {
     "data": {
      "text/plain": [
       "{'accuracy_score': 0.87365371809101,\n",
       " 'f1_score': 0.884735323671071,\n",
       " 'precision_score': 0.8877706829976141,\n",
       " 'recall_score': 0.8978540772532189}"
      ]
     },
     "execution_count": 101,
     "metadata": {},
     "output_type": "execute_result"
    }
   ],
   "source": [
    "score_estimator(RandomForestClassifier(**randforest_best))"
   ]
  },
  {
   "cell_type": "code",
   "execution_count": 118,
   "metadata": {},
   "outputs": [
    {
     "data": {
      "text/plain": [
       "'AUC: 0.9777379619260917'"
      ]
     },
     "execution_count": 118,
     "metadata": {},
     "output_type": "execute_result"
    },
    {
     "data": {
      "image/png": "[encoded data removed]",
      "text/plain": [
       "<Figure size 432x288 with 1 Axes>"
      ]
     },
     "metadata": {
      "needs_background": "light"
     },
     "output_type": "display_data"
    }
   ],
   "source": [
    "plot_roc_calc_auc_audio(RandomForestClassifier(**randforest_best))"
   ]
  },
  {
   "cell_type": "code",
   "execution_count": null,
   "metadata": {},
   "outputs": [],
   "source": []
  },
  {
   "cell_type": "code",
   "execution_count": null,
   "metadata": {},
   "outputs": [],
   "source": []
  },
  {
   "cell_type": "code",
   "execution_count": null,
   "metadata": {},
   "outputs": [],
   "source": []
  },
  {
   "cell_type": "code",
   "execution_count": null,
   "metadata": {},
   "outputs": [],
   "source": []
  },
  {
   "cell_type": "code",
   "execution_count": null,
   "metadata": {},
   "outputs": [],
   "source": []
  },
  {
   "cell_type": "code",
   "execution_count": null,
   "metadata": {},
   "outputs": [],
   "source": []
  },
  {
   "cell_type": "code",
   "execution_count": null,
   "metadata": {},
   "outputs": [],
   "source": []
  }
 ],
 "metadata": {
  "kernelspec": {
   "display_name": "Python 3",
   "language": "python",
   "name": "python3"
  },
  "language_info": {
   "codemirror_mode": {
    "name": "ipython",
    "version": 3
   },
   "file_extension": ".py",
   "mimetype": "text/x-python",
   "name": "python",
   "nbconvert_exporter": "python",
   "pygments_lexer": "ipython3",
   "version": "3.7.2"
  }
 },
 "nbformat": 4,
 "nbformat_minor": 2
}
